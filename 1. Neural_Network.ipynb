{
 "cells": [
  {
   "cell_type": "code",
   "execution_count": 189,
   "id": "303c45b4-0e4b-4e5a-9fe6-392d2a72d348",
   "metadata": {},
   "outputs": [],
   "source": [
    "import numpy as np\n",
    "import matplotlib.pyplot as plt\n",
    "import pandas as pd"
   ]
  },
  {
   "cell_type": "markdown",
   "id": "a5c44f6f",
   "metadata": {},
   "source": [
    "# Generating Random Dataset"
   ]
  },
  {
   "cell_type": "code",
   "execution_count": 190,
   "id": "cd8e003a-5023-43c7-abe4-69af02d456fb",
   "metadata": {},
   "outputs": [],
   "source": [
    "X = np.vstack([(np.random.randn(10, 2)*5),(np.random.randn(10, 2)*10)])\n",
    "Y = np.hstack([[0]*10,[1]*10])\n",
    "dataset = pd.DataFrame(X, columns=['X1','X2'])\n",
    "dataset[\"Y\"] = Y"
   ]
  },
  {
   "cell_type": "markdown",
   "id": "91de2c57",
   "metadata": {},
   "source": [
    "# Random Data set generated"
   ]
  },
  {
   "cell_type": "code",
   "execution_count": 191,
   "id": "99d1c26e",
   "metadata": {},
   "outputs": [
    {
     "data": {
      "text/html": [
       "<div>\n",
       "<style scoped>\n",
       "    .dataframe tbody tr th:only-of-type {\n",
       "        vertical-align: middle;\n",
       "    }\n",
       "\n",
       "    .dataframe tbody tr th {\n",
       "        vertical-align: top;\n",
       "    }\n",
       "\n",
       "    .dataframe thead th {\n",
       "        text-align: right;\n",
       "    }\n",
       "</style>\n",
       "<table border=\"1\" class=\"dataframe\">\n",
       "  <thead>\n",
       "    <tr style=\"text-align: right;\">\n",
       "      <th></th>\n",
       "      <th>X1</th>\n",
       "      <th>X2</th>\n",
       "      <th>Y</th>\n",
       "    </tr>\n",
       "  </thead>\n",
       "  <tbody>\n",
       "    <tr>\n",
       "      <th>0</th>\n",
       "      <td>-2.744227</td>\n",
       "      <td>-1.896876</td>\n",
       "      <td>0</td>\n",
       "    </tr>\n",
       "    <tr>\n",
       "      <th>1</th>\n",
       "      <td>-4.659282</td>\n",
       "      <td>7.639204</td>\n",
       "      <td>0</td>\n",
       "    </tr>\n",
       "    <tr>\n",
       "      <th>2</th>\n",
       "      <td>9.726795</td>\n",
       "      <td>7.618802</td>\n",
       "      <td>0</td>\n",
       "    </tr>\n",
       "    <tr>\n",
       "      <th>3</th>\n",
       "      <td>4.173637</td>\n",
       "      <td>0.525153</td>\n",
       "      <td>0</td>\n",
       "    </tr>\n",
       "    <tr>\n",
       "      <th>4</th>\n",
       "      <td>4.230135</td>\n",
       "      <td>3.558695</td>\n",
       "      <td>0</td>\n",
       "    </tr>\n",
       "    <tr>\n",
       "      <th>5</th>\n",
       "      <td>-1.332493</td>\n",
       "      <td>6.040368</td>\n",
       "      <td>0</td>\n",
       "    </tr>\n",
       "    <tr>\n",
       "      <th>6</th>\n",
       "      <td>5.840026</td>\n",
       "      <td>0.755107</td>\n",
       "      <td>0</td>\n",
       "    </tr>\n",
       "    <tr>\n",
       "      <th>7</th>\n",
       "      <td>6.870440</td>\n",
       "      <td>-9.612960</td>\n",
       "      <td>0</td>\n",
       "    </tr>\n",
       "    <tr>\n",
       "      <th>8</th>\n",
       "      <td>1.274547</td>\n",
       "      <td>-2.974380</td>\n",
       "      <td>0</td>\n",
       "    </tr>\n",
       "    <tr>\n",
       "      <th>9</th>\n",
       "      <td>-1.003754</td>\n",
       "      <td>-0.066008</td>\n",
       "      <td>0</td>\n",
       "    </tr>\n",
       "    <tr>\n",
       "      <th>10</th>\n",
       "      <td>-10.875799</td>\n",
       "      <td>3.832916</td>\n",
       "      <td>1</td>\n",
       "    </tr>\n",
       "    <tr>\n",
       "      <th>11</th>\n",
       "      <td>-0.364730</td>\n",
       "      <td>-3.006895</td>\n",
       "      <td>1</td>\n",
       "    </tr>\n",
       "    <tr>\n",
       "      <th>12</th>\n",
       "      <td>-7.472456</td>\n",
       "      <td>2.312454</td>\n",
       "      <td>1</td>\n",
       "    </tr>\n",
       "    <tr>\n",
       "      <th>13</th>\n",
       "      <td>3.243531</td>\n",
       "      <td>-4.953658</td>\n",
       "      <td>1</td>\n",
       "    </tr>\n",
       "    <tr>\n",
       "      <th>14</th>\n",
       "      <td>-1.547174</td>\n",
       "      <td>0.198079</td>\n",
       "      <td>1</td>\n",
       "    </tr>\n",
       "    <tr>\n",
       "      <th>15</th>\n",
       "      <td>4.253869</td>\n",
       "      <td>2.522311</td>\n",
       "      <td>1</td>\n",
       "    </tr>\n",
       "    <tr>\n",
       "      <th>16</th>\n",
       "      <td>6.735386</td>\n",
       "      <td>6.781802</td>\n",
       "      <td>1</td>\n",
       "    </tr>\n",
       "    <tr>\n",
       "      <th>17</th>\n",
       "      <td>-16.090537</td>\n",
       "      <td>-2.730647</td>\n",
       "      <td>1</td>\n",
       "    </tr>\n",
       "    <tr>\n",
       "      <th>18</th>\n",
       "      <td>14.475012</td>\n",
       "      <td>2.433437</td>\n",
       "      <td>1</td>\n",
       "    </tr>\n",
       "    <tr>\n",
       "      <th>19</th>\n",
       "      <td>19.668987</td>\n",
       "      <td>15.627202</td>\n",
       "      <td>1</td>\n",
       "    </tr>\n",
       "  </tbody>\n",
       "</table>\n",
       "</div>"
      ],
      "text/plain": [
       "           X1         X2  Y\n",
       "0   -2.744227  -1.896876  0\n",
       "1   -4.659282   7.639204  0\n",
       "2    9.726795   7.618802  0\n",
       "3    4.173637   0.525153  0\n",
       "4    4.230135   3.558695  0\n",
       "5   -1.332493   6.040368  0\n",
       "6    5.840026   0.755107  0\n",
       "7    6.870440  -9.612960  0\n",
       "8    1.274547  -2.974380  0\n",
       "9   -1.003754  -0.066008  0\n",
       "10 -10.875799   3.832916  1\n",
       "11  -0.364730  -3.006895  1\n",
       "12  -7.472456   2.312454  1\n",
       "13   3.243531  -4.953658  1\n",
       "14  -1.547174   0.198079  1\n",
       "15   4.253869   2.522311  1\n",
       "16   6.735386   6.781802  1\n",
       "17 -16.090537  -2.730647  1\n",
       "18  14.475012   2.433437  1\n",
       "19  19.668987  15.627202  1"
      ]
     },
     "execution_count": 191,
     "metadata": {},
     "output_type": "execute_result"
    }
   ],
   "source": [
    "dataset"
   ]
  },
  {
   "cell_type": "markdown",
   "metadata": {},
   "source": [
    "### Generating plot"
   ]
  },
  {
   "cell_type": "code",
   "execution_count": 192,
   "metadata": {},
   "outputs": [
    {
     "data": {
      "text/plain": [
       "<matplotlib.legend.Legend at 0x26ec1da3520>"
      ]
     },
     "execution_count": 192,
     "metadata": {},
     "output_type": "execute_result"
    },
    {
     "data": {
      "image/png": "[encoded data removed]",
      "text/plain": [
       "<Figure size 640x480 with 1 Axes>"
      ]
     },
     "metadata": {},
     "output_type": "display_data"
    }
   ],
   "source": [
    "plt.plot(dataset, label='Inline label')\n",
    "plt.legend([\"X2\", \"X1\", \"Y\"])"
   ]
  },
  {
   "cell_type": "markdown",
   "id": "53e309c3",
   "metadata": {},
   "source": [
    "### Generating target variable to vector of number of classes "
   ]
  },
  {
   "cell_type": "code",
   "execution_count": 193,
   "id": "01441cdd",
   "metadata": {},
   "outputs": [],
   "source": [
    "Z = np.zeros((20, 2))\n",
    "for i in range(20):\n",
    "    Z[i, Y[i]] = 1"
   ]
  },
  {
   "cell_type": "code",
   "execution_count": 194,
   "id": "1e5a393b",
   "metadata": {},
   "outputs": [
    {
     "data": {
      "text/plain": [
       "(20, 2)"
      ]
     },
     "execution_count": 194,
     "metadata": {},
     "output_type": "execute_result"
    }
   ],
   "source": [
    "X.shape"
   ]
  },
  {
   "cell_type": "markdown",
   "id": "0c5f7715",
   "metadata": {},
   "source": [
    "### Initiating Random Weights and Biases"
   ]
  },
  {
   "cell_type": "code",
   "execution_count": 195,
   "id": "fac63664",
   "metadata": {},
   "outputs": [],
   "source": [
    "Wi_1 = np.random.randn(3, 2)\n",
    "Bi_1 = np.random.randn(3)\n",
    "Wi_2 = np.random.randn(3, 2)\n",
    "Bi_2 = np.random.randn(2)"
   ]
  },
  {
   "cell_type": "code",
   "execution_count": 196,
   "id": "4c236091",
   "metadata": {},
   "outputs": [
    {
     "data": {
      "text/plain": [
       "(array([[-0.57051809,  0.71086803],\n",
       "        [ 1.28177457,  0.188689  ],\n",
       "        [-1.42981765, -0.98906052]]),\n",
       " array([ 0.84278061,  1.59394849, -0.14367629]),\n",
       " array([[ 1.62023091,  0.27196958],\n",
       "        [-1.41256176, -1.03219971],\n",
       "        [ 1.18373715,  1.78923561]]),\n",
       " array([-0.92274382,  0.27403402]))"
      ]
     },
     "execution_count": 196,
     "metadata": {},
     "output_type": "execute_result"
    }
   ],
   "source": [
    "Wi_1, Bi_1, Wi_2, Bi_2"
   ]
  },
  {
   "cell_type": "code",
   "execution_count": 197,
   "id": "e8056e71",
   "metadata": {},
   "outputs": [
    {
     "data": {
      "text/plain": [
       "array([[-0.57051809,  1.28177457, -1.42981765],\n",
       "       [ 0.71086803,  0.188689  , -0.98906052]])"
      ]
     },
     "execution_count": 197,
     "metadata": {},
     "output_type": "execute_result"
    }
   ],
   "source": [
    "Wi_1.T"
   ]
  },
  {
   "cell_type": "code",
   "execution_count": 198,
   "id": "f792f66b",
   "metadata": {},
   "outputs": [
    {
     "data": {
      "text/plain": [
       "array([[ -2.74422717,  -1.89687555],\n",
       "       [ -4.65928173,   7.63920434],\n",
       "       [  9.72679509,   7.61880217],\n",
       "       [  4.17363659,   0.52515273],\n",
       "       [  4.23013543,   3.55869498],\n",
       "       [ -1.33249267,   6.04036798],\n",
       "       [  5.84002572,   0.75510693],\n",
       "       [  6.87044036,  -9.61296044],\n",
       "       [  1.27454703,  -2.97437991],\n",
       "       [ -1.00375429,  -0.066008  ],\n",
       "       [-10.87579863,   3.83291641],\n",
       "       [ -0.36472958,  -3.00689517],\n",
       "       [ -7.47245625,   2.31245357],\n",
       "       [  3.24353113,  -4.95365818],\n",
       "       [ -1.54717368,   0.19807914],\n",
       "       [  4.25386885,   2.5223112 ],\n",
       "       [  6.73538592,   6.78180196],\n",
       "       [-16.09053694,  -2.73064695],\n",
       "       [ 14.47501245,   2.43343714],\n",
       "       [ 19.6689866 ,  15.62720211]])"
      ]
     },
     "execution_count": 198,
     "metadata": {},
     "output_type": "execute_result"
    }
   ],
   "source": [
    "X"
   ]
  },
  {
   "cell_type": "code",
   "execution_count": 199,
   "id": "646fbc64",
   "metadata": {},
   "outputs": [
    {
     "data": {
      "text/plain": [
       "(20, 2)"
      ]
     },
     "execution_count": 199,
     "metadata": {},
     "output_type": "execute_result"
    }
   ],
   "source": [
    "X.shape"
   ]
  },
  {
   "cell_type": "code",
   "execution_count": 200,
   "id": "71fd12f9",
   "metadata": {},
   "outputs": [
    {
     "data": {
      "text/plain": [
       "array([[  0.21720306,  -3.87540015,   5.79986915],\n",
       "       [  8.08867068,  -4.53071503,  -0.89371213],\n",
       "       [ -0.13334968,  13.90514277, -21.44299971],\n",
       "       [ -2.0078209 ,   5.4487518 ,  -6.48694709],\n",
       "       [  0.1163937 ,   6.09356662,  -9.56808698],\n",
       "       [  5.05411567,  -0.56820424,  -4.06906794],\n",
       "       [ -2.79505896,   7.62807684,  -9.0970183 ],\n",
       "       [-10.75325679,   6.99249587,  -0.31567726],\n",
       "       [ -2.84154373,   1.0724492 ,   1.1194719 ],\n",
       "       [  0.52573701,  -1.2990417 ,   1.5004715 ],\n",
       "       [  8.92953763, -13.21709298,  11.75942255],\n",
       "       [ -1.92942082,  -1.03486915,   3.49549808],\n",
       "       [  5.9070208 ,  -9.14166987,   8.39709331],\n",
       "       [ -5.37189044,   3.22277493,   0.26180966],\n",
       "       [  1.0234987 ,  -1.94575252,   2.01626397],\n",
       "       [ -0.63387874,   5.92843329,  -8.57697517],\n",
       "       [  0.97830669,   9.91289782, -16.33798621],\n",
       "       [  7.23881281, -21.13968414,  25.7073088 ],\n",
       "       [ -6.52840382,  19.01286571, -23.10344487],\n",
       "       [ -0.1126343 ,  28.159888  , -43.57931278]])"
      ]
     },
     "execution_count": 200,
     "metadata": {},
     "output_type": "execute_result"
    }
   ],
   "source": [
    "X.dot(Wi_1.T)"
   ]
  },
  {
   "cell_type": "markdown",
   "id": "4765932a",
   "metadata": {},
   "source": [
    "### Defining the Forward Propogation function"
   ]
  },
  {
   "cell_type": "code",
   "execution_count": 201,
   "id": "aba63527",
   "metadata": {},
   "outputs": [],
   "source": [
    "def forward_prop(X, Wi_1, Bi_1, Wi_2, Bi_2):\n",
    "    # First layer\n",
    "    M = 1/(1+np.exp(-(X.dot(Wi_1.T) + Bi_1)))\n",
    "    # Second layer\n",
    "    A = M.dot(Wi_2) + Bi_2\n",
    "    # Softmax\n",
    "    expA = np.exp(A)\n",
    "    Y = expA/expA.sum(axis=1, keepdims=True)\n",
    "    return Y, M"
   ]
  },
  {
   "cell_type": "code",
   "execution_count": 202,
   "id": "e5a734f6",
   "metadata": {},
   "outputs": [
    {
     "data": {
      "text/plain": [
       "(array([[0.30278334, 0.69721666],\n",
       "        [0.4934296 , 0.5065704 ],\n",
       "        [0.33772847, 0.66227153],\n",
       "        [0.22148163, 0.77851837],\n",
       "        [0.35382498, 0.64617502],\n",
       "        [0.4648018 , 0.5351982 ],\n",
       "        [0.19630264, 0.80369736],\n",
       "        [0.1404673 , 0.8595327 ],\n",
       "        [0.13808499, 0.86191501],\n",
       "        [0.30543218, 0.69456782],\n",
       "        [0.38838883, 0.61161117],\n",
       "        [0.15660755, 0.84339245],\n",
       "        [0.38802185, 0.61197815],\n",
       "        [0.13235393, 0.86764607],\n",
       "        [0.32937001, 0.67062999],\n",
       "        [0.30306522, 0.69693478],\n",
       "        [0.39730854, 0.60269146],\n",
       "        [0.38830761, 0.61169239],\n",
       "        [0.17184907, 0.82815093],\n",
       "        [0.33910555, 0.66089445]]),\n",
       " array([[7.42687424e-01, 9.26708207e-02, 9.96516377e-01],\n",
       "        [9.99867851e-01, 5.03657012e-02, 2.61654215e-01],\n",
       "        [6.70275405e-01, 9.99999814e-01, 4.21721491e-10],\n",
       "        [2.37752644e-01, 9.99126999e-01, 1.31760202e-03],\n",
       "        [7.22956458e-01, 9.99541694e-01, 6.05631562e-05],\n",
       "        [9.97259570e-01, 7.36089998e-01, 1.45896724e-02],\n",
       "        [1.24305140e-01, 9.99901171e-01, 9.70007747e-05],\n",
       "        [4.96493215e-05, 9.99813416e-01, 3.87139191e-01],\n",
       "        [1.19332847e-01, 9.35014489e-01, 7.26273178e-01],\n",
       "        [7.97140546e-01, 5.73196968e-01, 7.95238342e-01],\n",
       "        [9.99942995e-01, 8.95629920e-06, 9.99990977e-01],\n",
       "        [2.52251476e-01, 6.36239491e-01, 9.66164442e-01],\n",
       "        [9.98830258e-01, 5.27032387e-04, 9.99739700e-01],\n",
       "        [1.06750898e-02, 9.91971713e-01, 5.29499046e-01],\n",
       "        [8.66027175e-01, 4.12945015e-01, 8.66757410e-01],\n",
       "        [5.52036366e-01, 9.99459449e-01, 1.63154227e-04],\n",
       "        [8.60696543e-01, 9.99989939e-01, 6.95192208e-08],\n",
       "        [9.99690918e-01, 3.24634639e-09, 1.00000000e+00],\n",
       "        [3.38293407e-03, 9.99999999e-01, 8.01500066e-11],\n",
       "        [6.74837378e-01, 1.00000000e+00, 1.02647202e-19]]))"
      ]
     },
     "execution_count": 202,
     "metadata": {},
     "output_type": "execute_result"
    }
   ],
   "source": [
    "forward_prop(X, Wi_1, Bi_1, Wi_2, Bi_2)"
   ]
  },
  {
   "cell_type": "markdown",
   "id": "99073899-16a0-4379-8a46-129e0f3427ae",
   "metadata": {},
   "source": [
    "## Back Propogation by Differentiating or Gradient Descent"
   ]
  },
  {
   "cell_type": "code",
   "execution_count": 203,
   "id": "ecf78a78",
   "metadata": {},
   "outputs": [],
   "source": [
    "# returns gradient for weights_2\n",
    "def diff_Wi_2(H, Z, Y):\n",
    "    return H.T.dot(Z-Y)"
   ]
  },
  {
   "cell_type": "code",
   "execution_count": 204,
   "id": "e9afe5d2",
   "metadata": {},
   "outputs": [],
   "source": [
    "# returns gradient for weights_1\n",
    "def diff_Wi_1(X, H, Z, output, Wi_2):\n",
    "    dZ = (Z-output).dot(Wi_2.T) * H * (1-H)\n",
    "    return X.T.dot(dZ)"
   ]
  },
  {
   "cell_type": "code",
   "execution_count": 205,
   "id": "8322b799",
   "metadata": {},
   "outputs": [],
   "source": [
    "# returns derivative for both biases\n",
    "def diff_Bi2(Z, Y):\n",
    "    return (Z-Y).sum(axis=0)\n",
    "\n",
    "def diff_Bi1(Z, Y, Wi_2, H):\n",
    "    return ((Z-Y).dot(Wi_2.T) * H * (1-H)).sum(axis=0)"
   ]
  },
  {
   "cell_type": "code",
   "execution_count": 206,
   "id": "9a12d7c0",
   "metadata": {},
   "outputs": [],
   "source": [
    "learning_rate = 1e-3\n",
    "for epoch in range(200000):\n",
    "    output, hidden = forward_prop(X, Wi_1, Bi_1, Wi_2, Bi_2)\n",
    "    Wi_2 += learning_rate * diff_Wi_2(hidden, Z, output)\n",
    "    Bi_2 += learning_rate * diff_Bi2(Z, output)\n",
    "    Wi_1 += learning_rate * diff_Wi_1(X, hidden, Z, output, Wi_2).T\n",
    "    Bi_1 += learning_rate * diff_Bi1(Z, output, Wi_2, hidden)"
   ]
  },
  {
   "cell_type": "markdown",
   "id": "568b95a1",
   "metadata": {},
   "source": [
    "### Generating predectition at new datapoint"
   ]
  },
  {
   "cell_type": "code",
   "execution_count": 210,
   "id": "15b39cf4",
   "metadata": {},
   "outputs": [
    {
     "name": "stdout",
     "output_type": "stream",
     "text": [
      " porb of class 0 >>>>>>>>>>>>> 0.6698605399356947 \n",
      " prob of class 1 >>>>>>>>>>>>> 0.3301394600643053 \n"
     ]
    }
   ],
   "source": [
    "X_test = np.array([4,1])\n",
    "\n",
    "hidden_output = 1/(1+np.exp(-(X_test.dot(Wi_1.T) + Bi_1)))\n",
    "Outer_layer_output = hidden_output.dot(Wi_2) + Bi_2\n",
    "expA = np.exp(Outer_layer_output)\n",
    "Y = expA/expA.sum()\n",
    "print(\" porb of class 0 >>>>>>>>>>>>> {} \\n prob of class 1 >>>>>>>>>>>>> {} \".format(Y[0], Y[1]))"
   ]
  },
  {
   "cell_type": "code",
   "execution_count": null,
   "metadata": {},
   "outputs": [],
   "source": []
  }
 ],
 "metadata": {
  "kernelspec": {
   "display_name": "Python 3 (ipykernel)",
   "language": "python",
   "name": "python3"
  },
  "language_info": {
   "codemirror_mode": {
    "name": "ipython",
    "version": 3
   },
   "file_extension": ".py",
   "mimetype": "text/x-python",
   "name": "python",
   "nbconvert_exporter": "python",
   "pygments_lexer": "ipython3",
   "version": "3.10.11"
  }
 },
 "nbformat": 4,
 "nbformat_minor": 5
}
