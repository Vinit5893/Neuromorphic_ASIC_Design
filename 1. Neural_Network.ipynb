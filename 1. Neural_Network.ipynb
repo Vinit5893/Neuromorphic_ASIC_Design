{
 "cells": [
  {
   "cell_type": "code",
   "execution_count": 2,
   "id": "303c45b4-0e4b-4e5a-9fe6-392d2a72d348",
   "metadata": {},
   "outputs": [],
   "source": [
    "import numpy as np\n",
    "import matplotlib.pyplot as plt\n",
    "import pandas as pd"
   ]
  },
  {
   "cell_type": "markdown",
   "id": "a5c44f6f",
   "metadata": {},
   "source": [
    "# Generating Random Dataset"
   ]
  },
  {
   "cell_type": "code",
   "execution_count": 3,
   "id": "cd8e003a-5023-43c7-abe4-69af02d456fb",
   "metadata": {},
   "outputs": [],
   "source": [
    "X = np.vstack([(np.random.randn(10, 2)*5),(np.random.randn(10, 2)*10)])\n",
    "Y = np.hstack([[0]*10,[1]*10])\n",
    "dataset = pd.DataFrame(X, columns=['X1','X2'])\n",
    "dataset[\"Y\"] = Y"
   ]
  },
  {
   "cell_type": "markdown",
   "id": "91de2c57",
   "metadata": {},
   "source": [
    "# Random Data set generated"
   ]
  },
  {
   "cell_type": "code",
   "execution_count": 4,
   "id": "99d1c26e",
   "metadata": {},
   "outputs": [
    {
     "data": {
      "text/html": [
       "<div>\n",
       "<style scoped>\n",
       "    .dataframe tbody tr th:only-of-type {\n",
       "        vertical-align: middle;\n",
       "    }\n",
       "\n",
       "    .dataframe tbody tr th {\n",
       "        vertical-align: top;\n",
       "    }\n",
       "\n",
       "    .dataframe thead th {\n",
       "        text-align: right;\n",
       "    }\n",
       "</style>\n",
       "<table border=\"1\" class=\"dataframe\">\n",
       "  <thead>\n",
       "    <tr style=\"text-align: right;\">\n",
       "      <th></th>\n",
       "      <th>X1</th>\n",
       "      <th>X2</th>\n",
       "      <th>Y</th>\n",
       "    </tr>\n",
       "  </thead>\n",
       "  <tbody>\n",
       "    <tr>\n",
       "      <th>0</th>\n",
       "      <td>9.555600</td>\n",
       "      <td>-2.586837</td>\n",
       "      <td>0</td>\n",
       "    </tr>\n",
       "    <tr>\n",
       "      <th>1</th>\n",
       "      <td>4.537471</td>\n",
       "      <td>2.506682</td>\n",
       "      <td>0</td>\n",
       "    </tr>\n",
       "    <tr>\n",
       "      <th>2</th>\n",
       "      <td>4.610806</td>\n",
       "      <td>-4.364381</td>\n",
       "      <td>0</td>\n",
       "    </tr>\n",
       "    <tr>\n",
       "      <th>3</th>\n",
       "      <td>2.226239</td>\n",
       "      <td>-6.023613</td>\n",
       "      <td>0</td>\n",
       "    </tr>\n",
       "    <tr>\n",
       "      <th>4</th>\n",
       "      <td>-8.713601</td>\n",
       "      <td>7.694134</td>\n",
       "      <td>0</td>\n",
       "    </tr>\n",
       "    <tr>\n",
       "      <th>5</th>\n",
       "      <td>-6.362009</td>\n",
       "      <td>-6.769921</td>\n",
       "      <td>0</td>\n",
       "    </tr>\n",
       "    <tr>\n",
       "      <th>6</th>\n",
       "      <td>-2.021310</td>\n",
       "      <td>-2.309702</td>\n",
       "      <td>0</td>\n",
       "    </tr>\n",
       "    <tr>\n",
       "      <th>7</th>\n",
       "      <td>-1.595813</td>\n",
       "      <td>3.454309</td>\n",
       "      <td>0</td>\n",
       "    </tr>\n",
       "    <tr>\n",
       "      <th>8</th>\n",
       "      <td>1.957660</td>\n",
       "      <td>-0.454362</td>\n",
       "      <td>0</td>\n",
       "    </tr>\n",
       "    <tr>\n",
       "      <th>9</th>\n",
       "      <td>1.575773</td>\n",
       "      <td>-2.670036</td>\n",
       "      <td>0</td>\n",
       "    </tr>\n",
       "    <tr>\n",
       "      <th>10</th>\n",
       "      <td>6.984036</td>\n",
       "      <td>-0.285734</td>\n",
       "      <td>1</td>\n",
       "    </tr>\n",
       "    <tr>\n",
       "      <th>11</th>\n",
       "      <td>10.338555</td>\n",
       "      <td>-2.753515</td>\n",
       "      <td>1</td>\n",
       "    </tr>\n",
       "    <tr>\n",
       "      <th>12</th>\n",
       "      <td>-5.642027</td>\n",
       "      <td>-11.669721</td>\n",
       "      <td>1</td>\n",
       "    </tr>\n",
       "    <tr>\n",
       "      <th>13</th>\n",
       "      <td>12.743953</td>\n",
       "      <td>10.783555</td>\n",
       "      <td>1</td>\n",
       "    </tr>\n",
       "    <tr>\n",
       "      <th>14</th>\n",
       "      <td>-11.150144</td>\n",
       "      <td>18.745209</td>\n",
       "      <td>1</td>\n",
       "    </tr>\n",
       "    <tr>\n",
       "      <th>15</th>\n",
       "      <td>11.387670</td>\n",
       "      <td>0.999181</td>\n",
       "      <td>1</td>\n",
       "    </tr>\n",
       "    <tr>\n",
       "      <th>16</th>\n",
       "      <td>-11.414244</td>\n",
       "      <td>-3.351344</td>\n",
       "      <td>1</td>\n",
       "    </tr>\n",
       "    <tr>\n",
       "      <th>17</th>\n",
       "      <td>12.510270</td>\n",
       "      <td>19.993042</td>\n",
       "      <td>1</td>\n",
       "    </tr>\n",
       "    <tr>\n",
       "      <th>18</th>\n",
       "      <td>-2.301358</td>\n",
       "      <td>-10.862309</td>\n",
       "      <td>1</td>\n",
       "    </tr>\n",
       "    <tr>\n",
       "      <th>19</th>\n",
       "      <td>6.572193</td>\n",
       "      <td>-16.927774</td>\n",
       "      <td>1</td>\n",
       "    </tr>\n",
       "  </tbody>\n",
       "</table>\n",
       "</div>"
      ],
      "text/plain": [
       "           X1         X2  Y\n",
       "0    9.555600  -2.586837  0\n",
       "1    4.537471   2.506682  0\n",
       "2    4.610806  -4.364381  0\n",
       "3    2.226239  -6.023613  0\n",
       "4   -8.713601   7.694134  0\n",
       "5   -6.362009  -6.769921  0\n",
       "6   -2.021310  -2.309702  0\n",
       "7   -1.595813   3.454309  0\n",
       "8    1.957660  -0.454362  0\n",
       "9    1.575773  -2.670036  0\n",
       "10   6.984036  -0.285734  1\n",
       "11  10.338555  -2.753515  1\n",
       "12  -5.642027 -11.669721  1\n",
       "13  12.743953  10.783555  1\n",
       "14 -11.150144  18.745209  1\n",
       "15  11.387670   0.999181  1\n",
       "16 -11.414244  -3.351344  1\n",
       "17  12.510270  19.993042  1\n",
       "18  -2.301358 -10.862309  1\n",
       "19   6.572193 -16.927774  1"
      ]
     },
     "execution_count": 4,
     "metadata": {},
     "output_type": "execute_result"
    }
   ],
   "source": [
    "dataset"
   ]
  },
  {
   "cell_type": "markdown",
   "metadata": {},
   "source": [
    "### Generating plot"
   ]
  },
  {
   "cell_type": "code",
   "execution_count": 5,
   "metadata": {},
   "outputs": [
    {
     "data": {
      "text/plain": [
       "<matplotlib.legend.Legend at 0x1d112511480>"
      ]
     },
     "execution_count": 5,
     "metadata": {},
     "output_type": "execute_result"
    },
    {
     "data": {
      "image/png": "[encoded data removed]",
      "text/plain": [
       "<Figure size 640x480 with 1 Axes>"
      ]
     },
     "metadata": {},
     "output_type": "display_data"
    }
   ],
   "source": [
    "plt.plot(dataset, label='Inline label')\n",
    "plt.legend([\"X2\", \"X1\", \"Y\"])"
   ]
  },
  {
   "cell_type": "markdown",
   "id": "53e309c3",
   "metadata": {},
   "source": [
    "### Generating target variable to vector of number of classes "
   ]
  },
  {
   "cell_type": "code",
   "execution_count": 6,
   "id": "01441cdd",
   "metadata": {},
   "outputs": [],
   "source": [
    "Z = np.zeros((20, 2))\n",
    "for i in range(20):\n",
    "    Z[i, Y[i]] = 1"
   ]
  },
  {
   "cell_type": "code",
   "execution_count": 7,
   "id": "1e5a393b",
   "metadata": {},
   "outputs": [
    {
     "data": {
      "text/plain": [
       "(20, 2)"
      ]
     },
     "execution_count": 7,
     "metadata": {},
     "output_type": "execute_result"
    }
   ],
   "source": [
    "X.shape"
   ]
  },
  {
   "cell_type": "markdown",
   "id": "0c5f7715",
   "metadata": {},
   "source": [
    "### Initiating Random Weights and Biases"
   ]
  },
  {
   "cell_type": "code",
   "execution_count": 8,
   "id": "fac63664",
   "metadata": {},
   "outputs": [],
   "source": [
    "Wi_1 = np.random.randn(3, 2)\n",
    "Bi_1 = np.random.randn(3)\n",
    "Wi_2 = np.random.randn(3, 2)\n",
    "Bi_2 = np.random.randn(2)"
   ]
  },
  {
   "cell_type": "code",
   "execution_count": 9,
   "id": "4c236091",
   "metadata": {},
   "outputs": [
    {
     "data": {
      "text/plain": [
       "(array([[ 1.11622595, -1.80566327],\n",
       "        [ 1.10953004, -1.35844202],\n",
       "        [-0.51663981,  0.33262519]]),\n",
       " array([-0.78363999,  0.1103823 , -1.09542553]),\n",
       " array([[ 0.95276413,  0.60521726],\n",
       "        [-1.54010574,  1.18418477],\n",
       "        [ 1.26225147,  0.01334278]]),\n",
       " array([0.71582946, 0.07031979]))"
      ]
     },
     "execution_count": 9,
     "metadata": {},
     "output_type": "execute_result"
    }
   ],
   "source": [
    "Wi_1, Bi_1, Wi_2, Bi_2"
   ]
  },
  {
   "cell_type": "code",
   "execution_count": 10,
   "id": "e8056e71",
   "metadata": {},
   "outputs": [
    {
     "data": {
      "text/plain": [
       "array([[ 1.11622595,  1.10953004, -0.51663981],\n",
       "       [-1.80566327, -1.35844202,  0.33262519]])"
      ]
     },
     "execution_count": 10,
     "metadata": {},
     "output_type": "execute_result"
    }
   ],
   "source": [
    "Wi_1.T"
   ]
  },
  {
   "cell_type": "code",
   "execution_count": 11,
   "id": "f792f66b",
   "metadata": {},
   "outputs": [
    {
     "data": {
      "text/plain": [
       "array([[  9.55559988,  -2.58683674],\n",
       "       [  4.53747074,   2.50668189],\n",
       "       [  4.61080559,  -4.3643807 ],\n",
       "       [  2.22623857,  -6.02361272],\n",
       "       [ -8.7136008 ,   7.69413389],\n",
       "       [ -6.36200885,  -6.76992131],\n",
       "       [ -2.0213104 ,  -2.30970241],\n",
       "       [ -1.59581333,   3.45430924],\n",
       "       [  1.95766034,  -0.45436201],\n",
       "       [  1.57577294,  -2.67003631],\n",
       "       [  6.98403559,  -0.28573366],\n",
       "       [ 10.33855514,  -2.75351495],\n",
       "       [ -5.64202739, -11.66972064],\n",
       "       [ 12.74395287,  10.78355461],\n",
       "       [-11.15014442,  18.74520895],\n",
       "       [ 11.38766988,   0.99918092],\n",
       "       [-11.41424414,  -3.3513436 ],\n",
       "       [ 12.51027047,  19.993042  ],\n",
       "       [ -2.30135775, -10.86230912],\n",
       "       [  6.57219272, -16.92777436]])"
      ]
     },
     "execution_count": 11,
     "metadata": {},
     "output_type": "execute_result"
    }
   ],
   "source": [
    "X"
   ]
  },
  {
   "cell_type": "code",
   "execution_count": 12,
   "id": "646fbc64",
   "metadata": {},
   "outputs": [
    {
     "data": {
      "text/plain": [
       "(20, 2)"
      ]
     },
     "execution_count": 12,
     "metadata": {},
     "output_type": "execute_result"
    }
   ],
   "source": [
    "X.shape"
   ]
  },
  {
   "cell_type": "code",
   "execution_count": 13,
   "id": "71fd12f9",
   "metadata": {},
   "outputs": [
    {
     "data": {
      "text/plain": [
       "array([[ 15.33716465,  14.11629288,  -5.79725036],\n",
       "       [  0.53861917,   1.62927811,  -1.51045248],\n",
       "       [ 13.0273028 ,  11.04458546,  -3.83382868],\n",
       "       [ 13.36160154,  10.6528072 ,  -3.15376879],\n",
       "       [-23.61936234, -20.12003666,   7.0610558 ],\n",
       "       [  5.12275891,   2.13770561,   1.03502069],\n",
       "       [  1.9143057 ,   0.89489219,   0.27602422],\n",
       "       [ -8.01860758,  -6.46308165,   1.97345095],\n",
       "       [  3.00561607,   2.78930741,  -1.16253752],\n",
       "       [  6.58010515,   5.37545693,  -1.70222836],\n",
       "       [  8.31170055,   8.13714993,  -3.70327303],\n",
       "       [ 16.51208437,  15.21142796,  -6.25719759],\n",
       "       [ 14.7738086 ,   9.59263996,  -0.96674707],\n",
       "       [ -5.24633762,  -0.50903509,  -2.9971515 ],\n",
       "       [-46.29361594, -37.83569972,  11.99573715],\n",
       "       [ 10.90702835,  11.27763252,  -5.55097086],\n",
       "       [ -6.68947746,  -8.11184084,   4.78231162],\n",
       "       [-22.13641314, -13.27886738,   0.18688561],\n",
       "       [ 17.04483742,  12.20239157,  -2.42410459],\n",
       "       [ 37.90191255,  30.28744525,  -9.02606053]])"
      ]
     },
     "execution_count": 13,
     "metadata": {},
     "output_type": "execute_result"
    }
   ],
   "source": [
    "X.dot(Wi_1.T)"
   ]
  },
  {
   "cell_type": "markdown",
   "id": "4765932a",
   "metadata": {},
   "source": [
    "### Defining the Forward Propogation function"
   ]
  },
  {
   "cell_type": "code",
   "execution_count": 14,
   "id": "aba63527",
   "metadata": {},
   "outputs": [],
   "source": [
    "def forward_prop(X, Wi_1, Bi_1, Wi_2, Bi_2):\n",
    "    # First layer\n",
    "    M = 1/(1+np.exp(-(X.dot(Wi_1.T) + Bi_1)))\n",
    "    # Second layer\n",
    "    A = M.dot(Wi_2) + Bi_2\n",
    "    # Softmax\n",
    "    expA = np.exp(A)\n",
    "    Y = expA/expA.sum(axis=1, keepdims=True)\n",
    "    return Y, M"
   ]
  },
  {
   "cell_type": "code",
   "execution_count": 15,
   "id": "e5a734f6",
   "metadata": {},
   "outputs": [
    {
     "data": {
      "text/plain": [
       "(array([[0.15059196, 0.84940804],\n",
       "        [0.1925656 , 0.8074344 ],\n",
       "        [0.15158421, 0.84841579],\n",
       "        [0.15269744, 0.84730256],\n",
       "        [0.86889486, 0.13110514],\n",
       "        [0.2952749 , 0.7047251 ],\n",
       "        [0.33088917, 0.66911083],\n",
       "        [0.82099004, 0.17900996],\n",
       "        [0.18170014, 0.81829986],\n",
       "        [0.16120495, 0.83879505],\n",
       "        [0.15180677, 0.84819323],\n",
       "        [0.15053214, 0.84946786],\n",
       "        [0.16936199, 0.83063801],\n",
       "        [0.39476645, 0.60523355],\n",
       "        [0.86925587, 0.13074413],\n",
       "        [0.15063911, 0.84936089],\n",
       "        [0.86566752, 0.13433248],\n",
       "        [0.73190598, 0.26809402],\n",
       "        [0.15507996, 0.84492004],\n",
       "        [0.15043623, 0.84956377]]),\n",
       " array([[9.99999522e-01, 9.99999337e-01, 1.01416408e-03],\n",
       "        [4.39049422e-01, 8.50643927e-01, 6.87610780e-02],\n",
       "        [9.99995184e-01, 9.99985696e-01, 7.17996999e-03],\n",
       "        [9.99996553e-01, 9.99978836e-01, 1.40748029e-02],\n",
       "        [2.52296222e-11, 2.04135025e-09, 9.97441137e-01],\n",
       "        [9.87120039e-01, 9.04485475e-01, 4.84903380e-01],\n",
       "        [7.55961732e-01, 7.32094341e-01, 3.05890760e-01],\n",
       "        [1.50372058e-04, 1.73900900e-03, 7.06412873e-01],\n",
       "        [9.02205686e-01, 9.47831096e-01, 9.46647987e-02],\n",
       "        [9.96970928e-01, 9.95872056e-01, 5.74510870e-02],\n",
       "        [9.99462509e-01, 9.99738164e-01, 8.17311426e-03],\n",
       "        [9.99999852e-01, 9.99999778e-01, 6.40498470e-04],\n",
       "        [9.99999160e-01, 9.99938905e-01, 1.12828174e-01],\n",
       "        [2.39977508e-03, 4.01636064e-01, 1.64219679e-02],\n",
       "        [3.58597724e-21, 4.13145302e-17, 9.99981548e-01],\n",
       "        [9.99959872e-01, 9.99988670e-01, 1.29700925e-03],\n",
       "        [5.67831727e-04, 3.34861528e-04, 9.75562278e-01],\n",
       "        [1.11159709e-10, 1.90984784e-06, 2.87298707e-01],\n",
       "        [9.99999913e-01, 9.99995506e-01, 2.87616188e-02],\n",
       "        [1.00000000e+00, 1.00000000e+00, 4.02047156e-05]]))"
      ]
     },
     "execution_count": 15,
     "metadata": {},
     "output_type": "execute_result"
    }
   ],
   "source": [
    "forward_prop(X, Wi_1, Bi_1, Wi_2, Bi_2)"
   ]
  },
  {
   "cell_type": "markdown",
   "id": "99073899-16a0-4379-8a46-129e0f3427ae",
   "metadata": {},
   "source": [
    "## Back Propogation by Differentiating or Gradient Descent"
   ]
  },
  {
   "cell_type": "code",
   "execution_count": 16,
   "id": "ecf78a78",
   "metadata": {},
   "outputs": [],
   "source": [
    "# returns gradient for weights_2\n",
    "def diff_Wi_2(H, Z, Y):\n",
    "    return H.T.dot(Z-Y)"
   ]
  },
  {
   "cell_type": "code",
   "execution_count": 17,
   "id": "e9afe5d2",
   "metadata": {},
   "outputs": [],
   "source": [
    "# returns gradient for weights_1\n",
    "def diff_Wi_1(X, H, Z, output, Wi_2):\n",
    "    dZ = (Z-output).dot(Wi_2.T) * H * (1-H)\n",
    "    return X.T.dot(dZ)"
   ]
  },
  {
   "cell_type": "code",
   "execution_count": 18,
   "id": "8322b799",
   "metadata": {},
   "outputs": [],
   "source": [
    "# returns derivative for both biases\n",
    "def diff_Bi2(Z, Y):\n",
    "    return (Z-Y).sum(axis=0)\n",
    "\n",
    "def diff_Bi1(Z, Y, Wi_2, H):\n",
    "    return ((Z-Y).dot(Wi_2.T) * H * (1-H)).sum(axis=0)"
   ]
  },
  {
   "cell_type": "code",
   "execution_count": 19,
   "id": "9a12d7c0",
   "metadata": {},
   "outputs": [],
   "source": [
    "learning_rate = 1e-3\n",
    "for epoch in range(200000):\n",
    "    output, hidden = forward_prop(X, Wi_1, Bi_1, Wi_2, Bi_2)\n",
    "    Wi_2 += learning_rate * diff_Wi_2(hidden, Z, output)\n",
    "    Bi_2 += learning_rate * diff_Bi2(Z, output)\n",
    "    Wi_1 += learning_rate * diff_Wi_1(X, hidden, Z, output, Wi_2).T\n",
    "    Bi_1 += learning_rate * diff_Bi1(Z, output, Wi_2, hidden)"
   ]
  },
  {
   "cell_type": "markdown",
   "id": "568b95a1",
   "metadata": {},
   "source": [
    "### Generating predectition at new datapoint"
   ]
  },
  {
   "cell_type": "code",
   "execution_count": 20,
   "id": "15b39cf4",
   "metadata": {},
   "outputs": [
    {
     "name": "stdout",
     "output_type": "stream",
     "text": [
      " porb of class 0 >>>>>>>>>>>>> 0.9748966660257836 \n",
      " prob of class 1 >>>>>>>>>>>>> 0.02510333397421635 \n"
     ]
    }
   ],
   "source": [
    "X_test = np.array([4,1])\n",
    "\n",
    "hidden_output = 1/(1+np.exp(-(X_test.dot(Wi_1.T) + Bi_1)))\n",
    "Outer_layer_output = hidden_output.dot(Wi_2) + Bi_2\n",
    "expA = np.exp(Outer_layer_output)\n",
    "Y = expA/expA.sum()\n",
    "print(\" porb of class 0 >>>>>>>>>>>>> {} \\n prob of class 1 >>>>>>>>>>>>> {} \".format(Y[0], Y[1]))"
   ]
  },
  {
   "cell_type": "code",
   "execution_count": null,
   "metadata": {},
   "outputs": [],
   "source": []
  }
 ],
 "metadata": {
  "kernelspec": {
   "display_name": "Python 3 (ipykernel)",
   "language": "python",
   "name": "python3"
  },
  "language_info": {
   "codemirror_mode": {
    "name": "ipython",
    "version": 3
   },
   "file_extension": ".py",
   "mimetype": "text/x-python",
   "name": "python",
   "nbconvert_exporter": "python",
   "pygments_lexer": "ipython3",
   "version": "3.10.11"
  }
 },
 "nbformat": 4,
 "nbformat_minor": 5
}
