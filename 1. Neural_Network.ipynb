{
 "cells": [
  {
   "cell_type": "code",
   "execution_count": 1,
   "id": "303c45b4-0e4b-4e5a-9fe6-392d2a72d348",
   "metadata": {},
   "outputs": [],
   "source": [
    "import numpy as np\n",
    "import matplotlib.pyplot as plt\n",
    "import pandas as pd"
   ]
  },
  {
   "cell_type": "markdown",
   "id": "a5c44f6f",
   "metadata": {},
   "source": [
    "# Generating Random Dataset"
   ]
  },
  {
   "cell_type": "code",
   "execution_count": 2,
   "id": "cd8e003a-5023-43c7-abe4-69af02d456fb",
   "metadata": {},
   "outputs": [],
   "source": [
    "X = np.vstack([(np.random.randn(10, 2)*4),(np.random.randn(10, 2)*10)])\n",
    "Y = np.hstack([[0]*10,[1]*10])\n",
    "dataset = pd.DataFrame(X, columns=['X1','X2'])\n",
    "dataset[\"Y\"] = Y"
   ]
  },
  {
   "cell_type": "markdown",
   "id": "91de2c57",
   "metadata": {},
   "source": [
    "# Random Data set generated"
   ]
  },
  {
   "cell_type": "code",
   "execution_count": 3,
   "id": "99d1c26e",
   "metadata": {},
   "outputs": [
    {
     "data": {
      "text/html": [
       "<div>\n",
       "<style scoped>\n",
       "    .dataframe tbody tr th:only-of-type {\n",
       "        vertical-align: middle;\n",
       "    }\n",
       "\n",
       "    .dataframe tbody tr th {\n",
       "        vertical-align: top;\n",
       "    }\n",
       "\n",
       "    .dataframe thead th {\n",
       "        text-align: right;\n",
       "    }\n",
       "</style>\n",
       "<table border=\"1\" class=\"dataframe\">\n",
       "  <thead>\n",
       "    <tr style=\"text-align: right;\">\n",
       "      <th></th>\n",
       "      <th>X1</th>\n",
       "      <th>X2</th>\n",
       "      <th>Y</th>\n",
       "    </tr>\n",
       "  </thead>\n",
       "  <tbody>\n",
       "    <tr>\n",
       "      <th>0</th>\n",
       "      <td>-2.180745</td>\n",
       "      <td>1.871904</td>\n",
       "      <td>0</td>\n",
       "    </tr>\n",
       "    <tr>\n",
       "      <th>1</th>\n",
       "      <td>-0.119692</td>\n",
       "      <td>-1.607762</td>\n",
       "      <td>0</td>\n",
       "    </tr>\n",
       "    <tr>\n",
       "      <th>2</th>\n",
       "      <td>3.613031</td>\n",
       "      <td>-2.214546</td>\n",
       "      <td>0</td>\n",
       "    </tr>\n",
       "    <tr>\n",
       "      <th>3</th>\n",
       "      <td>0.771843</td>\n",
       "      <td>6.282591</td>\n",
       "      <td>0</td>\n",
       "    </tr>\n",
       "    <tr>\n",
       "      <th>4</th>\n",
       "      <td>9.292810</td>\n",
       "      <td>-1.865715</td>\n",
       "      <td>0</td>\n",
       "    </tr>\n",
       "    <tr>\n",
       "      <th>5</th>\n",
       "      <td>-8.246895</td>\n",
       "      <td>-1.125886</td>\n",
       "      <td>0</td>\n",
       "    </tr>\n",
       "    <tr>\n",
       "      <th>6</th>\n",
       "      <td>1.440079</td>\n",
       "      <td>-5.643849</td>\n",
       "      <td>0</td>\n",
       "    </tr>\n",
       "    <tr>\n",
       "      <th>7</th>\n",
       "      <td>0.493072</td>\n",
       "      <td>-0.083938</td>\n",
       "      <td>0</td>\n",
       "    </tr>\n",
       "    <tr>\n",
       "      <th>8</th>\n",
       "      <td>-1.426817</td>\n",
       "      <td>0.581496</td>\n",
       "      <td>0</td>\n",
       "    </tr>\n",
       "    <tr>\n",
       "      <th>9</th>\n",
       "      <td>-4.949892</td>\n",
       "      <td>-2.155757</td>\n",
       "      <td>0</td>\n",
       "    </tr>\n",
       "    <tr>\n",
       "      <th>10</th>\n",
       "      <td>-3.669551</td>\n",
       "      <td>7.987249</td>\n",
       "      <td>1</td>\n",
       "    </tr>\n",
       "    <tr>\n",
       "      <th>11</th>\n",
       "      <td>3.977502</td>\n",
       "      <td>-0.443597</td>\n",
       "      <td>1</td>\n",
       "    </tr>\n",
       "    <tr>\n",
       "      <th>12</th>\n",
       "      <td>14.651068</td>\n",
       "      <td>-11.399736</td>\n",
       "      <td>1</td>\n",
       "    </tr>\n",
       "    <tr>\n",
       "      <th>13</th>\n",
       "      <td>-1.888081</td>\n",
       "      <td>3.878295</td>\n",
       "      <td>1</td>\n",
       "    </tr>\n",
       "    <tr>\n",
       "      <th>14</th>\n",
       "      <td>5.274216</td>\n",
       "      <td>-9.947337</td>\n",
       "      <td>1</td>\n",
       "    </tr>\n",
       "    <tr>\n",
       "      <th>15</th>\n",
       "      <td>-7.449605</td>\n",
       "      <td>-14.551570</td>\n",
       "      <td>1</td>\n",
       "    </tr>\n",
       "    <tr>\n",
       "      <th>16</th>\n",
       "      <td>-2.533076</td>\n",
       "      <td>6.014557</td>\n",
       "      <td>1</td>\n",
       "    </tr>\n",
       "    <tr>\n",
       "      <th>17</th>\n",
       "      <td>-10.482067</td>\n",
       "      <td>-0.683231</td>\n",
       "      <td>1</td>\n",
       "    </tr>\n",
       "    <tr>\n",
       "      <th>18</th>\n",
       "      <td>-3.969436</td>\n",
       "      <td>0.590212</td>\n",
       "      <td>1</td>\n",
       "    </tr>\n",
       "    <tr>\n",
       "      <th>19</th>\n",
       "      <td>6.940081</td>\n",
       "      <td>-15.064221</td>\n",
       "      <td>1</td>\n",
       "    </tr>\n",
       "  </tbody>\n",
       "</table>\n",
       "</div>"
      ],
      "text/plain": [
       "           X1         X2  Y\n",
       "0   -2.180745   1.871904  0\n",
       "1   -0.119692  -1.607762  0\n",
       "2    3.613031  -2.214546  0\n",
       "3    0.771843   6.282591  0\n",
       "4    9.292810  -1.865715  0\n",
       "5   -8.246895  -1.125886  0\n",
       "6    1.440079  -5.643849  0\n",
       "7    0.493072  -0.083938  0\n",
       "8   -1.426817   0.581496  0\n",
       "9   -4.949892  -2.155757  0\n",
       "10  -3.669551   7.987249  1\n",
       "11   3.977502  -0.443597  1\n",
       "12  14.651068 -11.399736  1\n",
       "13  -1.888081   3.878295  1\n",
       "14   5.274216  -9.947337  1\n",
       "15  -7.449605 -14.551570  1\n",
       "16  -2.533076   6.014557  1\n",
       "17 -10.482067  -0.683231  1\n",
       "18  -3.969436   0.590212  1\n",
       "19   6.940081 -15.064221  1"
      ]
     },
     "execution_count": 3,
     "metadata": {},
     "output_type": "execute_result"
    }
   ],
   "source": [
    "dataset"
   ]
  },
  {
   "cell_type": "markdown",
   "metadata": {},
   "source": [
    "### Generating plot"
   ]
  },
  {
   "cell_type": "code",
   "execution_count": 4,
   "metadata": {},
   "outputs": [
    {
     "data": {
      "text/plain": [
       "<matplotlib.legend.Legend at 0x18cda8191b0>"
      ]
     },
     "execution_count": 4,
     "metadata": {},
     "output_type": "execute_result"
    },
    {
     "data": {
      "image/png": "[encoded data removed]",
      "text/plain": [
       "<Figure size 640x480 with 1 Axes>"
      ]
     },
     "metadata": {},
     "output_type": "display_data"
    }
   ],
   "source": [
    "plt.plot(dataset, label='Inline label')\n",
    "plt.legend([\"X2\", \"X1\", \"Y\"])"
   ]
  },
  {
   "cell_type": "markdown",
   "id": "53e309c3",
   "metadata": {},
   "source": [
    "### Generating target variable to vector of number of classes "
   ]
  },
  {
   "cell_type": "code",
   "execution_count": 5,
   "id": "01441cdd",
   "metadata": {},
   "outputs": [],
   "source": [
    "Z = np.zeros((20, 2))\n",
    "for i in range(20):\n",
    "    Z[i, Y[i]] = 1"
   ]
  },
  {
   "cell_type": "code",
   "execution_count": 6,
   "id": "1e5a393b",
   "metadata": {},
   "outputs": [
    {
     "data": {
      "text/plain": [
       "(20, 2)"
      ]
     },
     "execution_count": 6,
     "metadata": {},
     "output_type": "execute_result"
    }
   ],
   "source": [
    "X.shape"
   ]
  },
  {
   "cell_type": "markdown",
   "id": "0c5f7715",
   "metadata": {},
   "source": [
    "### Initiating Random Weights and Biases"
   ]
  },
  {
   "cell_type": "code",
   "execution_count": 7,
   "id": "fac63664",
   "metadata": {},
   "outputs": [],
   "source": [
    "Wi_1 = np.random.randn(3, 2)\n",
    "Bi_1 = np.random.randn(3)\n",
    "Wi_2 = np.random.randn(3, 2)\n",
    "Bi_2 = np.random.randn(2)"
   ]
  },
  {
   "cell_type": "code",
   "execution_count": 8,
   "id": "4c236091",
   "metadata": {},
   "outputs": [
    {
     "data": {
      "text/plain": [
       "(array([[-0.03880324, -0.31589495],\n",
       "        [-0.06746674,  1.8869031 ],\n",
       "        [-0.29497455, -2.01580263]]),\n",
       " array([-0.0101064 ,  2.20459203, -0.76592949]),\n",
       " array([[-0.70508453,  0.78723505],\n",
       "        [-0.25025161,  0.30804221],\n",
       "        [-0.30783707,  0.50977064]]),\n",
       " array([ 1.23334623, -0.47819557]))"
      ]
     },
     "execution_count": 8,
     "metadata": {},
     "output_type": "execute_result"
    }
   ],
   "source": [
    "Wi_1, Bi_1, Wi_2, Bi_2"
   ]
  },
  {
   "cell_type": "code",
   "execution_count": 9,
   "id": "e8056e71",
   "metadata": {},
   "outputs": [
    {
     "data": {
      "text/plain": [
       "array([[-0.03880324, -0.06746674, -0.29497455],\n",
       "       [-0.31589495,  1.8869031 , -2.01580263]])"
      ]
     },
     "execution_count": 9,
     "metadata": {},
     "output_type": "execute_result"
    }
   ],
   "source": [
    "Wi_1.T"
   ]
  },
  {
   "cell_type": "code",
   "execution_count": 10,
   "id": "f792f66b",
   "metadata": {},
   "outputs": [
    {
     "data": {
      "text/plain": [
       "array([[ -2.18074518,   1.87190352],\n",
       "       [ -0.11969167,  -1.6077617 ],\n",
       "       [  3.61303051,  -2.21454571],\n",
       "       [  0.77184293,   6.28259098],\n",
       "       [  9.2928102 ,  -1.86571512],\n",
       "       [ -8.24689507,  -1.12588555],\n",
       "       [  1.44007922,  -5.64384898],\n",
       "       [  0.49307243,  -0.08393823],\n",
       "       [ -1.42681683,   0.5814958 ],\n",
       "       [ -4.94989209,  -2.15575709],\n",
       "       [ -3.6695514 ,   7.98724906],\n",
       "       [  3.97750158,  -0.44359661],\n",
       "       [ 14.65106815, -11.3997359 ],\n",
       "       [ -1.8880806 ,   3.87829456],\n",
       "       [  5.27421623,  -9.94733716],\n",
       "       [ -7.44960502, -14.55156967],\n",
       "       [ -2.5330762 ,   6.01455678],\n",
       "       [-10.48206729,  -0.68323126],\n",
       "       [ -3.96943563,   0.5902116 ],\n",
       "       [  6.94008109, -15.06422105]])"
      ]
     },
     "execution_count": 10,
     "metadata": {},
     "output_type": "execute_result"
    }
   ],
   "source": [
    "X"
   ]
  },
  {
   "cell_type": "code",
   "execution_count": 11,
   "id": "646fbc64",
   "metadata": {},
   "outputs": [
    {
     "data": {
      "text/plain": [
       "(20, 2)"
      ]
     },
     "execution_count": 11,
     "metadata": {},
     "output_type": "execute_result"
    }
   ],
   "source": [
    "X.shape"
   ]
  },
  {
   "cell_type": "code",
   "execution_count": 12,
   "id": "71fd12f9",
   "metadata": {},
   "outputs": [
    {
     "data": {
      "text/plain": [
       "array([[-5.06704897e-01,  3.67922832e+00, -3.13012370e+00],\n",
       "       [ 5.12528226e-01, -3.02561532e+00,  3.27623625e+00],\n",
       "       [ 5.59366526e-01, -4.42239255e+00,  3.39833500e+00],\n",
       "       [-2.01458877e+00,  1.18025666e+01, -1.28921374e+01],\n",
       "       [ 2.28778863e-01, -4.14737924e+00,  1.01977090e+00],\n",
       "       [ 6.75667789e-01, -1.56804581e+00,  4.70218724e+00],\n",
       "       [ 1.72698366e+00, -1.07465536e+01,  1.09520989e+01],\n",
       "       [ 7.38285666e-03, -1.91649296e-01,  2.37590867e-02],\n",
       "       [-1.28326475e-01,  1.19348891e+00, -7.51306107e-01],\n",
       "       [ 8.73064616e-01, -3.73375164e+00,  5.80567301e+00],\n",
       "       [-2.38074117e+00,  1.53187376e+01, -1.50182933e+01],\n",
       "       [-1.42100114e-02, -1.10537287e+00, -2.79058552e-01],\n",
       "       [ 3.03261012e+00, -2.24986567e+01,  1.86579253e+01],\n",
       "       [-1.15187003e+00,  7.44534866e+00, -7.26094063e+00],\n",
       "       [ 2.93765691e+00, -1.91254955e+01,  1.84961088e+01],\n",
       "       [ 4.88583617e+00, -2.69548013e+01,  3.15305363e+01],\n",
       "       [-1.80167656e+00,  1.15197842e+01, -1.13769663e+01],\n",
       "       [ 6.22567453e-01, -5.82000279e-01,  4.46920249e+00],\n",
       "       [-3.24179090e-02,  1.38147697e+00, -1.88675826e-02],\n",
       "       [ 4.48941374e+00, -2.88929500e+01,  2.83193490e+01]])"
      ]
     },
     "execution_count": 12,
     "metadata": {},
     "output_type": "execute_result"
    }
   ],
   "source": [
    "X.dot(Wi_1.T)"
   ]
  },
  {
   "cell_type": "markdown",
   "id": "4765932a",
   "metadata": {},
   "source": [
    "### Defining the Forward Propogation function"
   ]
  },
  {
   "cell_type": "code",
   "execution_count": 13,
   "id": "aba63527",
   "metadata": {},
   "outputs": [],
   "source": [
    "def forward_prop(X, Wi_1, Bi_1, Wi_2, Bi_2):\n",
    "    # First layer\n",
    "    M = 1/(1+np.exp(-(X.dot(Wi_1.T) + Bi_1)))\n",
    "    # Second layer\n",
    "    A = M.dot(Wi_2) + Bi_2\n",
    "    # Softmax\n",
    "    expA = np.exp(A)\n",
    "    Y = expA/expA.sum(axis=1, keepdims=True)\n",
    "    return Y, M"
   ]
  },
  {
   "cell_type": "code",
   "execution_count": 14,
   "id": "e5a734f6",
   "metadata": {},
   "outputs": [
    {
     "data": {
      "text/plain": [
       "(array([[0.64129419, 0.35870581],\n",
       "        [0.46381987, 0.53618013],\n",
       "        [0.48697792, 0.51302208],\n",
       "        [0.72694781, 0.27305219],\n",
       "        [0.5875225 , 0.4124775 ],\n",
       "        [0.39145282, 0.60854718],\n",
       "        [0.40824569, 0.59175431],\n",
       "        [0.55235658, 0.44764342],\n",
       "        [0.58167519, 0.41832481],\n",
       "        [0.43788181, 0.56211819],\n",
       "        [0.73654391, 0.26345609],\n",
       "        [0.58490387, 0.41509613],\n",
       "        [0.37072386, 0.62927614],\n",
       "        [0.68941479, 0.31058521],\n",
       "        [0.37225306, 0.62774694],\n",
       "        [0.35730374, 0.64269626],\n",
       "        [0.71984413, 0.28015587],\n",
       "        [0.37275053, 0.62724947],\n",
       "        [0.54533926, 0.45466074],\n",
       "        [0.3585529 , 0.6414471 ]]),\n",
       " array([[3.73598160e-01, 9.97223601e-01, 1.99172036e-02],\n",
       "        [6.23028300e-01, 3.05546487e-01, 9.24861211e-01],\n",
       "        [6.33963917e-01, 9.81633464e-02, 9.32918247e-01],\n",
       "        [1.16634372e-01, 9.99999174e-01, 1.17051341e-06],\n",
       "        [5.54451310e-01, 1.25341971e-01, 5.63121775e-01],\n",
       "        [6.60508568e-01, 6.53972311e-01, 9.80852647e-01],\n",
       "        [8.47726170e-01, 1.95069116e-04, 9.99962313e-01],\n",
       "        [4.99319114e-01, 8.82149298e-01, 3.22529718e-01],\n",
       "        [4.65446943e-01, 9.67644506e-01, 1.79868952e-01],\n",
       "        [7.03278339e-01, 1.78116678e-01, 9.93566252e-01],\n",
       "        [8.38732828e-02, 9.99999975e-01, 1.39636534e-07],\n",
       "        [4.93921196e-01, 7.50113771e-01, 2.60188695e-01],\n",
       "        [9.53580478e-01, 1.53602994e-09, 9.99999983e-01],\n",
       "        [2.38308343e-01, 9.99935575e-01, 3.26462120e-04],\n",
       "        [9.49191674e-01, 4.48069099e-08, 9.99999980e-01],\n",
       "        [9.92428244e-01, 1.78287415e-11, 1.00000000e+00],\n",
       "        [1.40422777e-01, 9.99998905e-01, 5.32604748e-06],\n",
       "        [6.48501996e-01, 8.35152254e-01, 9.75949921e-01],\n",
       "        [4.89370524e-01, 9.73039950e-01, 3.13286928e-01],\n",
       "        [9.88785916e-01, 2.56680821e-12, 1.00000000e+00]]))"
      ]
     },
     "execution_count": 14,
     "metadata": {},
     "output_type": "execute_result"
    }
   ],
   "source": [
    "forward_prop(X, Wi_1, Bi_1, Wi_2, Bi_2)"
   ]
  },
  {
   "cell_type": "markdown",
   "id": "99073899-16a0-4379-8a46-129e0f3427ae",
   "metadata": {},
   "source": [
    "## Back Propogation by Differentiating or Gradient Descent"
   ]
  },
  {
   "cell_type": "code",
   "execution_count": 15,
   "id": "ecf78a78",
   "metadata": {},
   "outputs": [],
   "source": [
    "# returns gradient for weights_2\n",
    "def diff_Wi_2(H, Z, Y):\n",
    "    return H.T.dot(Z-Y)"
   ]
  },
  {
   "cell_type": "code",
   "execution_count": 16,
   "id": "e9afe5d2",
   "metadata": {},
   "outputs": [],
   "source": [
    "# returns gradient for weights_1\n",
    "def diff_Wi_1(X, H, Z, output, Wi_2):\n",
    "    dZ = (Z-output).dot(Wi_2.T) * H * (1-H)\n",
    "    return X.T.dot(dZ)"
   ]
  },
  {
   "cell_type": "code",
   "execution_count": 17,
   "id": "8322b799",
   "metadata": {},
   "outputs": [],
   "source": [
    "# returns derivative for both biases\n",
    "def diff_Bi2(Z, Y):\n",
    "    return (Z-Y).sum(axis=0)\n",
    "\n",
    "def diff_Bi1(Z, Y, Wi_2, H):\n",
    "    return ((Z-Y).dot(Wi_2.T) * H * (1-H)).sum(axis=0)"
   ]
  },
  {
   "cell_type": "code",
   "execution_count": 18,
   "id": "9a12d7c0",
   "metadata": {},
   "outputs": [],
   "source": [
    "learning_rate = 1e-3\n",
    "for epoch in range(200000):\n",
    "    output, hidden = forward_prop(X, Wi_1, Bi_1, Wi_2, Bi_2)\n",
    "    Wi_2 += learning_rate * diff_Wi_2(hidden, Z, output)\n",
    "    Bi_2 += learning_rate * diff_Bi2(Z, output)\n",
    "    Wi_1 += learning_rate * diff_Wi_1(X, hidden, Z, output, Wi_2).T\n",
    "    Bi_1 += learning_rate * diff_Bi1(Z, output, Wi_2, hidden)"
   ]
  },
  {
   "cell_type": "markdown",
   "id": "568b95a1",
   "metadata": {},
   "source": [
    "### Generating predectition at new datapoint"
   ]
  },
  {
   "cell_type": "code",
   "execution_count": 26,
   "id": "15b39cf4",
   "metadata": {},
   "outputs": [
    {
     "name": "stdout",
     "output_type": "stream",
     "text": [
      " porb of class 0 >>>>>>>>>>>>> 0.5215862337292563 \n",
      " prob of class 1 >>>>>>>>>>>>> 0.4784137662707437 \n"
     ]
    }
   ],
   "source": [
    "X_test = np.array([1,2])\n",
    "\n",
    "hidden_output = 1/(1+np.exp(-(X_test.dot(Wi_1.T) + Bi_1)))\n",
    "Outer_layer_output = hidden_output.dot(Wi_2) + Bi_2\n",
    "expA = np.exp(Outer_layer_output)\n",
    "Y = expA/expA.sum()\n",
    "print(\" porb of class 0 >>>>>>>>>>>>> {} \\n prob of class 1 >>>>>>>>>>>>> {} \".format(Y[0], Y[1]))"
   ]
  },
  {
   "cell_type": "code",
   "execution_count": null,
   "metadata": {},
   "outputs": [],
   "source": []
  }
 ],
 "metadata": {
  "kernelspec": {
   "display_name": "Python 3 (ipykernel)",
   "language": "python",
   "name": "python3"
  },
  "language_info": {
   "codemirror_mode": {
    "name": "ipython",
    "version": 3
   },
   "file_extension": ".py",
   "mimetype": "text/x-python",
   "name": "python",
   "nbconvert_exporter": "python",
   "pygments_lexer": "ipython3",
   "version": "3.10.11"
  }
 },
 "nbformat": 4,
 "nbformat_minor": 5
}
