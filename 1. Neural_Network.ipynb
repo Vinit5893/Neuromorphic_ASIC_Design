{
 "cells": [
  {
   "cell_type": "code",
   "execution_count": 1,
   "id": "303c45b4-0e4b-4e5a-9fe6-392d2a72d348",
   "metadata": {},
   "outputs": [],
   "source": [
    "import numpy as np\n",
    "import matplotlib.pyplot as plt\n",
    "import pandas as pd"
   ]
  },
  {
   "cell_type": "markdown",
   "id": "a5c44f6f",
   "metadata": {},
   "source": [
    "# Generating Random Dataset"
   ]
  },
  {
   "cell_type": "code",
   "execution_count": 135,
   "id": "cd8e003a-5023-43c7-abe4-69af02d456fb",
   "metadata": {},
   "outputs": [],
   "source": [
    "X = np.vstack([(np.random.randn(10, 2)*4),(np.random.randn(10, 2)*10)])\n",
    "Y = np.hstack([[0]*10,[1]*10])\n",
    "dataset = pd.DataFrame(X, columns=['X1','X2'])\n",
    "dataset[\"Y\"] = Y"
   ]
  },
  {
   "cell_type": "markdown",
   "id": "91de2c57",
   "metadata": {},
   "source": [
    "# Random Data set generated"
   ]
  },
  {
   "cell_type": "code",
   "execution_count": 136,
   "id": "99d1c26e",
   "metadata": {},
   "outputs": [
    {
     "data": {
      "text/html": [
       "<div>\n",
       "<style scoped>\n",
       "    .dataframe tbody tr th:only-of-type {\n",
       "        vertical-align: middle;\n",
       "    }\n",
       "\n",
       "    .dataframe tbody tr th {\n",
       "        vertical-align: top;\n",
       "    }\n",
       "\n",
       "    .dataframe thead th {\n",
       "        text-align: right;\n",
       "    }\n",
       "</style>\n",
       "<table border=\"1\" class=\"dataframe\">\n",
       "  <thead>\n",
       "    <tr style=\"text-align: right;\">\n",
       "      <th></th>\n",
       "      <th>X1</th>\n",
       "      <th>X2</th>\n",
       "      <th>Y</th>\n",
       "    </tr>\n",
       "  </thead>\n",
       "  <tbody>\n",
       "    <tr>\n",
       "      <th>0</th>\n",
       "      <td>6.292402</td>\n",
       "      <td>0.579438</td>\n",
       "      <td>0</td>\n",
       "    </tr>\n",
       "    <tr>\n",
       "      <th>1</th>\n",
       "      <td>-6.672338</td>\n",
       "      <td>-1.802703</td>\n",
       "      <td>0</td>\n",
       "    </tr>\n",
       "    <tr>\n",
       "      <th>2</th>\n",
       "      <td>1.117052</td>\n",
       "      <td>0.912656</td>\n",
       "      <td>0</td>\n",
       "    </tr>\n",
       "    <tr>\n",
       "      <th>3</th>\n",
       "      <td>-2.975333</td>\n",
       "      <td>3.216338</td>\n",
       "      <td>0</td>\n",
       "    </tr>\n",
       "    <tr>\n",
       "      <th>4</th>\n",
       "      <td>-5.160546</td>\n",
       "      <td>1.023684</td>\n",
       "      <td>0</td>\n",
       "    </tr>\n",
       "    <tr>\n",
       "      <th>5</th>\n",
       "      <td>5.022229</td>\n",
       "      <td>-1.216628</td>\n",
       "      <td>0</td>\n",
       "    </tr>\n",
       "    <tr>\n",
       "      <th>6</th>\n",
       "      <td>2.310838</td>\n",
       "      <td>-2.249163</td>\n",
       "      <td>0</td>\n",
       "    </tr>\n",
       "    <tr>\n",
       "      <th>7</th>\n",
       "      <td>2.953226</td>\n",
       "      <td>8.102320</td>\n",
       "      <td>0</td>\n",
       "    </tr>\n",
       "    <tr>\n",
       "      <th>8</th>\n",
       "      <td>-0.963609</td>\n",
       "      <td>2.458517</td>\n",
       "      <td>0</td>\n",
       "    </tr>\n",
       "    <tr>\n",
       "      <th>9</th>\n",
       "      <td>-0.952308</td>\n",
       "      <td>-1.201335</td>\n",
       "      <td>0</td>\n",
       "    </tr>\n",
       "    <tr>\n",
       "      <th>10</th>\n",
       "      <td>-7.221585</td>\n",
       "      <td>-0.420696</td>\n",
       "      <td>1</td>\n",
       "    </tr>\n",
       "    <tr>\n",
       "      <th>11</th>\n",
       "      <td>20.196992</td>\n",
       "      <td>-3.099951</td>\n",
       "      <td>1</td>\n",
       "    </tr>\n",
       "    <tr>\n",
       "      <th>12</th>\n",
       "      <td>-5.252956</td>\n",
       "      <td>9.177247</td>\n",
       "      <td>1</td>\n",
       "    </tr>\n",
       "    <tr>\n",
       "      <th>13</th>\n",
       "      <td>13.049472</td>\n",
       "      <td>-12.475401</td>\n",
       "      <td>1</td>\n",
       "    </tr>\n",
       "    <tr>\n",
       "      <th>14</th>\n",
       "      <td>4.182191</td>\n",
       "      <td>18.194379</td>\n",
       "      <td>1</td>\n",
       "    </tr>\n",
       "    <tr>\n",
       "      <th>15</th>\n",
       "      <td>-7.240936</td>\n",
       "      <td>-18.754349</td>\n",
       "      <td>1</td>\n",
       "    </tr>\n",
       "    <tr>\n",
       "      <th>16</th>\n",
       "      <td>10.749421</td>\n",
       "      <td>-10.057641</td>\n",
       "      <td>1</td>\n",
       "    </tr>\n",
       "    <tr>\n",
       "      <th>17</th>\n",
       "      <td>-0.083442</td>\n",
       "      <td>0.068096</td>\n",
       "      <td>1</td>\n",
       "    </tr>\n",
       "    <tr>\n",
       "      <th>18</th>\n",
       "      <td>10.777492</td>\n",
       "      <td>-1.731923</td>\n",
       "      <td>1</td>\n",
       "    </tr>\n",
       "    <tr>\n",
       "      <th>19</th>\n",
       "      <td>8.838491</td>\n",
       "      <td>-0.813628</td>\n",
       "      <td>1</td>\n",
       "    </tr>\n",
       "  </tbody>\n",
       "</table>\n",
       "</div>"
      ],
      "text/plain": [
       "           X1         X2  Y\n",
       "0    6.292402   0.579438  0\n",
       "1   -6.672338  -1.802703  0\n",
       "2    1.117052   0.912656  0\n",
       "3   -2.975333   3.216338  0\n",
       "4   -5.160546   1.023684  0\n",
       "5    5.022229  -1.216628  0\n",
       "6    2.310838  -2.249163  0\n",
       "7    2.953226   8.102320  0\n",
       "8   -0.963609   2.458517  0\n",
       "9   -0.952308  -1.201335  0\n",
       "10  -7.221585  -0.420696  1\n",
       "11  20.196992  -3.099951  1\n",
       "12  -5.252956   9.177247  1\n",
       "13  13.049472 -12.475401  1\n",
       "14   4.182191  18.194379  1\n",
       "15  -7.240936 -18.754349  1\n",
       "16  10.749421 -10.057641  1\n",
       "17  -0.083442   0.068096  1\n",
       "18  10.777492  -1.731923  1\n",
       "19   8.838491  -0.813628  1"
      ]
     },
     "execution_count": 136,
     "metadata": {},
     "output_type": "execute_result"
    }
   ],
   "source": [
    "dataset"
   ]
  },
  {
   "cell_type": "markdown",
   "metadata": {},
   "source": [
    "### Generating plot"
   ]
  },
  {
   "cell_type": "code",
   "execution_count": 137,
   "metadata": {},
   "outputs": [
    {
     "data": {
      "text/plain": [
       "<matplotlib.legend.Legend at 0x15c7264abc0>"
      ]
     },
     "execution_count": 137,
     "metadata": {},
     "output_type": "execute_result"
    },
    {
     "data": {
      "image/png": "[encoded data removed]",
      "text/plain": [
       "<Figure size 640x480 with 1 Axes>"
      ]
     },
     "metadata": {},
     "output_type": "display_data"
    }
   ],
   "source": [
    "plt.plot(dataset, label='Inline label')\n",
    "plt.legend([\"X2\", \"X1\", \"Y\"])"
   ]
  },
  {
   "cell_type": "markdown",
   "id": "53e309c3",
   "metadata": {},
   "source": [
    "### Generating target variable to vector of number of classes "
   ]
  },
  {
   "cell_type": "code",
   "execution_count": 138,
   "id": "01441cdd",
   "metadata": {},
   "outputs": [],
   "source": [
    "Z = np.zeros((20, 2))\n",
    "for i in range(20):\n",
    "    Z[i, Y[i]] = 1"
   ]
  },
  {
   "cell_type": "code",
   "execution_count": 139,
   "id": "1e5a393b",
   "metadata": {},
   "outputs": [
    {
     "data": {
      "text/plain": [
       "(20, 2)"
      ]
     },
     "execution_count": 139,
     "metadata": {},
     "output_type": "execute_result"
    }
   ],
   "source": [
    "X.shape"
   ]
  },
  {
   "cell_type": "markdown",
   "id": "0c5f7715",
   "metadata": {},
   "source": [
    "### Initiating Random Weights and Biases"
   ]
  },
  {
   "cell_type": "code",
   "execution_count": 140,
   "id": "fac63664",
   "metadata": {},
   "outputs": [],
   "source": [
    "Wi_1 = np.random.randn(3, 2)\n",
    "Bi_1 = np.random.randn(3)\n",
    "Wi_2 = np.random.randn(3, 2)\n",
    "Bi_2 = np.random.randn(2)"
   ]
  },
  {
   "cell_type": "code",
   "execution_count": 141,
   "id": "4c236091",
   "metadata": {},
   "outputs": [
    {
     "data": {
      "text/plain": [
       "(array([[ 0.65878792, -0.45507762],\n",
       "        [-1.20921576, -0.52365558],\n",
       "        [ 1.61509733, -1.221178  ]]),\n",
       " array([-0.7517202 , -0.11306224,  0.29697868]),\n",
       " array([[ 0.76986086, -1.2748735 ],\n",
       "        [ 0.71079906,  0.44578737],\n",
       "        [-0.19651517,  0.33806091]]),\n",
       " array([ 1.80633359, -0.83099703]))"
      ]
     },
     "execution_count": 141,
     "metadata": {},
     "output_type": "execute_result"
    }
   ],
   "source": [
    "Wi_1, Bi_1, Wi_2, Bi_2"
   ]
  },
  {
   "cell_type": "code",
   "execution_count": 142,
   "id": "e8056e71",
   "metadata": {},
   "outputs": [
    {
     "data": {
      "text/plain": [
       "array([[ 0.65878792, -1.20921576,  1.61509733],\n",
       "       [-0.45507762, -0.52365558, -1.221178  ]])"
      ]
     },
     "execution_count": 142,
     "metadata": {},
     "output_type": "execute_result"
    }
   ],
   "source": [
    "Wi_1.T"
   ]
  },
  {
   "cell_type": "code",
   "execution_count": 143,
   "id": "f792f66b",
   "metadata": {},
   "outputs": [
    {
     "data": {
      "text/plain": [
       "array([[  6.29240195,   0.57943845],\n",
       "       [ -6.67233818,  -1.80270344],\n",
       "       [  1.11705159,   0.91265624],\n",
       "       [ -2.975333  ,   3.21633811],\n",
       "       [ -5.16054641,   1.02368408],\n",
       "       [  5.02222876,  -1.2166281 ],\n",
       "       [  2.31083804,  -2.24916338],\n",
       "       [  2.9532263 ,   8.10231965],\n",
       "       [ -0.9636093 ,   2.45851674],\n",
       "       [ -0.9523078 ,  -1.20133477],\n",
       "       [ -7.22158509,  -0.42069614],\n",
       "       [ 20.19699169,  -3.09995064],\n",
       "       [ -5.25295599,   9.17724664],\n",
       "       [ 13.04947167, -12.47540063],\n",
       "       [  4.18219125,  18.19437892],\n",
       "       [ -7.24093626, -18.75434865],\n",
       "       [ 10.74942118, -10.05764062],\n",
       "       [ -0.08344239,   0.06809642],\n",
       "       [ 10.77749184,  -1.73192258],\n",
       "       [  8.83849059,  -0.81362755]])"
      ]
     },
     "execution_count": 143,
     "metadata": {},
     "output_type": "execute_result"
    }
   ],
   "source": [
    "X"
   ]
  },
  {
   "cell_type": "code",
   "execution_count": 144,
   "id": "646fbc64",
   "metadata": {},
   "outputs": [
    {
     "data": {
      "text/plain": [
       "(20, 2)"
      ]
     },
     "execution_count": 144,
     "metadata": {},
     "output_type": "execute_result"
    }
   ],
   "source": [
    "X.shape"
   ]
  },
  {
   "cell_type": "code",
   "execution_count": 145,
   "id": "71fd12f9",
   "metadata": {},
   "outputs": [
    {
     "data": {
      "text/plain": [
       "array([[  3.88166891,  -7.91229779,   9.45524411],\n",
       "       [ -3.57528579,   9.01229219,  -8.57505381],\n",
       "       [  0.32057067,  -1.82867392,   0.68963133],\n",
       "       [ -3.42379691,   1.91356615,  -8.73317371],\n",
       "       [ -3.86556133,   5.70415616,  -9.58488521],\n",
       "       [  3.86224384,  -5.43586406,   9.59710772],\n",
       "       [  2.54589609,  -1.61651482,   6.47885718],\n",
       "       [ -1.74163451,  -7.81391269,  -5.12462654],\n",
       "       [ -1.7536301 ,  -0.12220445,  -4.55860935],\n",
       "       [ -0.08066831,   1.78063126,  -0.07102621],\n",
       "       [ -4.5660436 ,   8.95275438, -11.14981793],\n",
       "       [ 14.71625224, -22.79921419,  36.40569888],\n",
       "       [ -7.63694346,   1.54624074, -19.69108686],\n",
       "       [ 14.27410985,  -9.24681362,  36.3108516 ],\n",
       "       [ -5.52467753, -14.58475965, -15.46392924],\n",
       "       [  3.76444296,  18.5766736 ,  11.20758106],\n",
       "       [ 11.65859591,  -7.73162985,  29.64353086],\n",
       "       [ -0.08595999,   0.06524079,  -0.21792543],\n",
       "       [  7.88824061, -12.12538205,  19.52168406],\n",
       "       [  6.1929545 , -10.2615815 ,  15.26860663]])"
      ]
     },
     "execution_count": 145,
     "metadata": {},
     "output_type": "execute_result"
    }
   ],
   "source": [
    "X.dot(Wi_1.T)"
   ]
  },
  {
   "cell_type": "markdown",
   "id": "4765932a",
   "metadata": {},
   "source": [
    "### Defining the Forward Propogation function"
   ]
  },
  {
   "cell_type": "code",
   "execution_count": 146,
   "id": "aba63527",
   "metadata": {},
   "outputs": [],
   "source": [
    "def forward_prop(X, Wi_1, Bi_1, Wi_2, Bi_2):\n",
    "    # First layer\n",
    "    M = 1/(1+np.exp(-(X.dot(Wi_1.T) + Bi_1)))\n",
    "    # Second layer\n",
    "    A = M.dot(Wi_2) + Bi_2\n",
    "    # Softmax\n",
    "    expA = np.exp(A)\n",
    "    Y = expA/expA.sum(axis=1, keepdims=True)\n",
    "    return Y, M"
   ]
  },
  {
   "cell_type": "code",
   "execution_count": 147,
   "id": "e5a734f6",
   "metadata": {},
   "outputs": [
    {
     "data": {
      "text/plain": [
       "(array([[0.98307603, 0.01692397],\n",
       "        [0.94925302, 0.05074698],\n",
       "        [0.95633268, 0.04366732],\n",
       "        [0.94762834, 0.05237166],\n",
       "        [0.94888993, 0.05111007],\n",
       "        [0.98306485, 0.01693515],\n",
       "        [0.9800919 , 0.0199081 ],\n",
       "        [0.94209191, 0.05790809],\n",
       "        [0.94790736, 0.05209264],\n",
       "        [0.96018017, 0.03981983],\n",
       "        [0.94844973, 0.05155027],\n",
       "        [0.9844418 , 0.0155582 ],\n",
       "        [0.94540984, 0.05459016],\n",
       "        [0.98444214, 0.01555786],\n",
       "        [0.93346453, 0.06653547],\n",
       "        [0.98683188, 0.01316812],\n",
       "        [0.98444285, 0.01555715],\n",
       "        [0.95715512, 0.04284488],\n",
       "        [0.98441694, 0.01558306],\n",
       "        [0.98430623, 0.01569377]]),\n",
       " array([[9.58111334e-01, 3.26955320e-04, 9.99941838e-01],\n",
       "        [1.30348783e-02, 9.99863525e-01, 2.53961182e-04],\n",
       "        [3.93851867e-01, 1.25457245e-01, 7.28417815e-01],\n",
       "        [1.51346650e-02, 8.58210265e-01, 2.16826756e-04],\n",
       "        [9.78296507e-03, 9.96282924e-01, 9.25280180e-05],\n",
       "        [9.57324754e-01, 3.87654735e-03, 9.99949530e-01],\n",
       "        [8.57438490e-01, 1.50641687e-01, 9.98860284e-01],\n",
       "        [7.63253548e-02, 3.60746256e-04, 7.94175239e-03],\n",
       "        [7.54839542e-02, 4.41453128e-01, 1.39032661e-02],\n",
       "        [3.03140269e-01, 8.41251440e-01, 5.56249007e-01],\n",
       "        [4.87977814e-03, 9.99855154e-01, 1.93492171e-05],\n",
       "        [9.99999138e-01, 1.12027535e-10, 1.00000000e+00],\n",
       "        [2.27379287e-04, 8.07396081e-01, 3.77785978e-09],\n",
       "        [9.99998659e-01, 8.61033740e-05, 1.00000000e+00],\n",
       "        [1.87663290e-03, 4.13825148e-07, 2.58867154e-07],\n",
       "        [9.53145601e-01, 9.99999990e-01, 9.99989916e-01],\n",
       "        [9.99981669e-01, 3.91672772e-04, 1.00000000e+00],\n",
       "        [3.02023587e-01, 4.88046915e-01, 5.19753026e-01],\n",
       "        [9.99205117e-01, 4.84071011e-06, 9.99999998e-01],\n",
       "        [9.95684573e-01, 3.12130292e-05, 9.99999826e-01]]))"
      ]
     },
     "execution_count": 147,
     "metadata": {},
     "output_type": "execute_result"
    }
   ],
   "source": [
    "forward_prop(X, Wi_1, Bi_1, Wi_2, Bi_2)"
   ]
  },
  {
   "cell_type": "markdown",
   "id": "99073899-16a0-4379-8a46-129e0f3427ae",
   "metadata": {},
   "source": [
    "## Back Propogation by Differentiating or Gradient Descent"
   ]
  },
  {
   "cell_type": "code",
   "execution_count": 148,
   "id": "ecf78a78",
   "metadata": {},
   "outputs": [],
   "source": [
    "# returns gradient for weights_2\n",
    "def diff_Wi_2(H, Z, Y):\n",
    "    return H.T.dot(Z-Y)"
   ]
  },
  {
   "cell_type": "code",
   "execution_count": 149,
   "id": "e9afe5d2",
   "metadata": {},
   "outputs": [],
   "source": [
    "# returns gradient for weights_1\n",
    "def diff_Wi_1(X, H, Z, output, Wi_2):\n",
    "    dZ = (Z-output).dot(Wi_2.T) * H * (1-H)\n",
    "    return X.T.dot(dZ)"
   ]
  },
  {
   "cell_type": "code",
   "execution_count": 150,
   "id": "8322b799",
   "metadata": {},
   "outputs": [],
   "source": [
    "# returns derivative for both biases\n",
    "def diff_Bi2(Z, Y):\n",
    "    return (Z-Y).sum(axis=0)\n",
    "\n",
    "def diff_Bi1(Z, Y, Wi_2, H):\n",
    "    return ((Z-Y).dot(Wi_2.T) * H * (1-H)).sum(axis=0)"
   ]
  },
  {
   "cell_type": "code",
   "execution_count": 151,
   "id": "9a12d7c0",
   "metadata": {},
   "outputs": [],
   "source": [
    "learning_rate = 1e-3\n",
    "for epoch in range(200000):\n",
    "    output, hidden = forward_prop(X, Wi_1, Bi_1, Wi_2, Bi_2)\n",
    "    Wi_2 += learning_rate * diff_Wi_2(hidden, Z, output)\n",
    "    Bi_2 += learning_rate * diff_Bi2(Z, output)\n",
    "    Wi_1 += learning_rate * diff_Wi_1(X, hidden, Z, output, Wi_2).T\n",
    "    Bi_1 += learning_rate * diff_Bi1(Z, output, Wi_2, hidden)"
   ]
  },
  {
   "cell_type": "markdown",
   "id": "568b95a1",
   "metadata": {},
   "source": [
    "### Generating predectition at new datapoint"
   ]
  },
  {
   "cell_type": "code",
   "execution_count": 159,
   "id": "15b39cf4",
   "metadata": {},
   "outputs": [
    {
     "name": "stdout",
     "output_type": "stream",
     "text": [
      " porb of class 0 >>>>>>>>>>>>> 0.9862203563836331 \n",
      " prob of class 1 >>>>>>>>>>>>> 0.013779643616366855 \n"
     ]
    }
   ],
   "source": [
    "X_test = np.array([8,5])\n",
    "\n",
    "hidden_output = 1/(1+np.exp(-(X_test.dot(Wi_1.T) + Bi_1)))\n",
    "Outer_layer_output = hidden_output.dot(Wi_2) + Bi_2\n",
    "expA = np.exp(Outer_layer_output)\n",
    "Y = expA/expA.sum()\n",
    "print(\" porb of class 0 >>>>>>>>>>>>> {} \\n prob of class 1 >>>>>>>>>>>>> {} \".format(Y[0], Y[1]))"
   ]
  },
  {
   "cell_type": "code",
   "execution_count": null,
   "metadata": {},
   "outputs": [],
   "source": []
  }
 ],
 "metadata": {
  "kernelspec": {
   "display_name": "Python 3 (ipykernel)",
   "language": "python",
   "name": "python3"
  },
  "language_info": {
   "codemirror_mode": {
    "name": "ipython",
    "version": 3
   },
   "file_extension": ".py",
   "mimetype": "text/x-python",
   "name": "python",
   "nbconvert_exporter": "python",
   "pygments_lexer": "ipython3",
   "version": "3.10.11"
  }
 },
 "nbformat": 4,
 "nbformat_minor": 5
}
