{
  "cells": [
    {
      "cell_type": "code",
      "execution_count": 59,
      "metadata": {
        "colab": {
          "base_uri": "https://localhost:8080/"
        },
        "id": "sbHUygso3DWA",
        "outputId": "6bb7d43e-44fc-4523-969e-1d3cb7ab6584"
      },
      "outputs": [],
      "source": [
        "# from google.colab import drive\n",
        "\n",
        "# drive.mount('/content/gdrive')"
      ]
    },
    {
      "cell_type": "code",
      "execution_count": 60,
      "metadata": {
        "colab": {
          "base_uri": "https://localhost:8080/"
        },
        "id": "BK4S6ghV0g4a",
        "outputId": "de28d71d-9f52-4ae6-d92e-d13aab2d2a5b"
      },
      "outputs": [
        {
          "name": "stdout",
          "output_type": "stream",
          "text": [
            "Requirement already satisfied: tensorflow in c:\\users\\vinit\\desktop\\neuromorphic_asic_design\\env1\\lib\\site-packages (2.15.0)\n",
            "Requirement already satisfied: tensorflow-intel==2.15.0 in c:\\users\\vinit\\desktop\\neuromorphic_asic_design\\env1\\lib\\site-packages (from tensorflow) (2.15.0)\n",
            "Requirement already satisfied: absl-py>=1.0.0 in c:\\users\\vinit\\desktop\\neuromorphic_asic_design\\env1\\lib\\site-packages (from tensorflow-intel==2.15.0->tensorflow) (2.1.0)\n",
            "Requirement already satisfied: astunparse>=1.6.0 in c:\\users\\vinit\\desktop\\neuromorphic_asic_design\\env1\\lib\\site-packages (from tensorflow-intel==2.15.0->tensorflow) (1.6.3)\n",
            "Requirement already satisfied: flatbuffers>=23.5.26 in c:\\users\\vinit\\desktop\\neuromorphic_asic_design\\env1\\lib\\site-packages (from tensorflow-intel==2.15.0->tensorflow) (23.5.26)\n",
            "Requirement already satisfied: gast!=0.5.0,!=0.5.1,!=0.5.2,>=0.2.1 in c:\\users\\vinit\\desktop\\neuromorphic_asic_design\\env1\\lib\\site-packages (from tensorflow-intel==2.15.0->tensorflow) (0.5.4)\n",
            "Requirement already satisfied: google-pasta>=0.1.1 in c:\\users\\vinit\\desktop\\neuromorphic_asic_design\\env1\\lib\\site-packages (from tensorflow-intel==2.15.0->tensorflow) (0.2.0)\n",
            "Requirement already satisfied: h5py>=2.9.0 in c:\\users\\vinit\\desktop\\neuromorphic_asic_design\\env1\\lib\\site-packages (from tensorflow-intel==2.15.0->tensorflow) (3.10.0)\n",
            "Requirement already satisfied: libclang>=13.0.0 in c:\\users\\vinit\\desktop\\neuromorphic_asic_design\\env1\\lib\\site-packages (from tensorflow-intel==2.15.0->tensorflow) (16.0.6)\n",
            "Requirement already satisfied: ml-dtypes~=0.2.0 in c:\\users\\vinit\\desktop\\neuromorphic_asic_design\\env1\\lib\\site-packages (from tensorflow-intel==2.15.0->tensorflow) (0.2.0)\n",
            "Requirement already satisfied: numpy<2.0.0,>=1.23.5 in c:\\users\\vinit\\desktop\\neuromorphic_asic_design\\env1\\lib\\site-packages (from tensorflow-intel==2.15.0->tensorflow) (1.26.3)\n",
            "Requirement already satisfied: opt-einsum>=2.3.2 in c:\\users\\vinit\\desktop\\neuromorphic_asic_design\\env1\\lib\\site-packages (from tensorflow-intel==2.15.0->tensorflow) (3.3.0)\n",
            "Requirement already satisfied: packaging in c:\\users\\vinit\\desktop\\neuromorphic_asic_design\\env1\\lib\\site-packages (from tensorflow-intel==2.15.0->tensorflow) (23.2)\n",
            "Requirement already satisfied: protobuf!=4.21.0,!=4.21.1,!=4.21.2,!=4.21.3,!=4.21.4,!=4.21.5,<5.0.0dev,>=3.20.3 in c:\\users\\vinit\\desktop\\neuromorphic_asic_design\\env1\\lib\\site-packages (from tensorflow-intel==2.15.0->tensorflow) (4.23.4)\n",
            "Requirement already satisfied: setuptools in c:\\users\\vinit\\desktop\\neuromorphic_asic_design\\env1\\lib\\site-packages (from tensorflow-intel==2.15.0->tensorflow) (63.2.0)\n",
            "Requirement already satisfied: six>=1.12.0 in c:\\users\\vinit\\desktop\\neuromorphic_asic_design\\env1\\lib\\site-packages (from tensorflow-intel==2.15.0->tensorflow) (1.16.0)\n",
            "Requirement already satisfied: termcolor>=1.1.0 in c:\\users\\vinit\\desktop\\neuromorphic_asic_design\\env1\\lib\\site-packages (from tensorflow-intel==2.15.0->tensorflow) (2.4.0)\n",
            "Requirement already satisfied: typing-extensions>=3.6.6 in c:\\users\\vinit\\desktop\\neuromorphic_asic_design\\env1\\lib\\site-packages (from tensorflow-intel==2.15.0->tensorflow) (4.9.0)\n",
            "Requirement already satisfied: wrapt<1.15,>=1.11.0 in c:\\users\\vinit\\desktop\\neuromorphic_asic_design\\env1\\lib\\site-packages (from tensorflow-intel==2.15.0->tensorflow) (1.14.1)\n",
            "Requirement already satisfied: tensorflow-io-gcs-filesystem>=0.23.1 in c:\\users\\vinit\\desktop\\neuromorphic_asic_design\\env1\\lib\\site-packages (from tensorflow-intel==2.15.0->tensorflow) (0.31.0)\n",
            "Requirement already satisfied: grpcio<2.0,>=1.24.3 in c:\\users\\vinit\\desktop\\neuromorphic_asic_design\\env1\\lib\\site-packages (from tensorflow-intel==2.15.0->tensorflow) (1.60.1)\n",
            "Requirement already satisfied: tensorboard<2.16,>=2.15 in c:\\users\\vinit\\desktop\\neuromorphic_asic_design\\env1\\lib\\site-packages (from tensorflow-intel==2.15.0->tensorflow) (2.15.1)\n",
            "Requirement already satisfied: tensorflow-estimator<2.16,>=2.15.0 in c:\\users\\vinit\\desktop\\neuromorphic_asic_design\\env1\\lib\\site-packages (from tensorflow-intel==2.15.0->tensorflow) (2.15.0)\n",
            "Requirement already satisfied: keras<2.16,>=2.15.0 in c:\\users\\vinit\\desktop\\neuromorphic_asic_design\\env1\\lib\\site-packages (from tensorflow-intel==2.15.0->tensorflow) (2.15.0)\n",
            "Requirement already satisfied: wheel<1.0,>=0.23.0 in c:\\users\\vinit\\desktop\\neuromorphic_asic_design\\env1\\lib\\site-packages (from astunparse>=1.6.0->tensorflow-intel==2.15.0->tensorflow) (0.42.0)\n",
            "Requirement already satisfied: google-auth<3,>=1.6.3 in c:\\users\\vinit\\desktop\\neuromorphic_asic_design\\env1\\lib\\site-packages (from tensorboard<2.16,>=2.15->tensorflow-intel==2.15.0->tensorflow) (2.27.0)\n",
            "Requirement already satisfied: google-auth-oauthlib<2,>=0.5 in c:\\users\\vinit\\desktop\\neuromorphic_asic_design\\env1\\lib\\site-packages (from tensorboard<2.16,>=2.15->tensorflow-intel==2.15.0->tensorflow) (1.2.0)\n",
            "Requirement already satisfied: markdown>=2.6.8 in c:\\users\\vinit\\desktop\\neuromorphic_asic_design\\env1\\lib\\site-packages (from tensorboard<2.16,>=2.15->tensorflow-intel==2.15.0->tensorflow) (3.5.2)\n",
            "Requirement already satisfied: requests<3,>=2.21.0 in c:\\users\\vinit\\desktop\\neuromorphic_asic_design\\env1\\lib\\site-packages (from tensorboard<2.16,>=2.15->tensorflow-intel==2.15.0->tensorflow) (2.31.0)\n",
            "Requirement already satisfied: tensorboard-data-server<0.8.0,>=0.7.0 in c:\\users\\vinit\\desktop\\neuromorphic_asic_design\\env1\\lib\\site-packages (from tensorboard<2.16,>=2.15->tensorflow-intel==2.15.0->tensorflow) (0.7.2)\n",
            "Requirement already satisfied: werkzeug>=1.0.1 in c:\\users\\vinit\\desktop\\neuromorphic_asic_design\\env1\\lib\\site-packages (from tensorboard<2.16,>=2.15->tensorflow-intel==2.15.0->tensorflow) (3.0.1)\n",
            "Requirement already satisfied: cachetools<6.0,>=2.0.0 in c:\\users\\vinit\\desktop\\neuromorphic_asic_design\\env1\\lib\\site-packages (from google-auth<3,>=1.6.3->tensorboard<2.16,>=2.15->tensorflow-intel==2.15.0->tensorflow) (5.3.2)\n",
            "Requirement already satisfied: pyasn1-modules>=0.2.1 in c:\\users\\vinit\\desktop\\neuromorphic_asic_design\\env1\\lib\\site-packages (from google-auth<3,>=1.6.3->tensorboard<2.16,>=2.15->tensorflow-intel==2.15.0->tensorflow) (0.3.0)\n",
            "Requirement already satisfied: rsa<5,>=3.1.4 in c:\\users\\vinit\\desktop\\neuromorphic_asic_design\\env1\\lib\\site-packages (from google-auth<3,>=1.6.3->tensorboard<2.16,>=2.15->tensorflow-intel==2.15.0->tensorflow) (4.9)\n",
            "Requirement already satisfied: requests-oauthlib>=0.7.0 in c:\\users\\vinit\\desktop\\neuromorphic_asic_design\\env1\\lib\\site-packages (from google-auth-oauthlib<2,>=0.5->tensorboard<2.16,>=2.15->tensorflow-intel==2.15.0->tensorflow) (1.3.1)\n",
            "Requirement already satisfied: charset-normalizer<4,>=2 in c:\\users\\vinit\\desktop\\neuromorphic_asic_design\\env1\\lib\\site-packages (from requests<3,>=2.21.0->tensorboard<2.16,>=2.15->tensorflow-intel==2.15.0->tensorflow) (3.3.2)\n",
            "Requirement already satisfied: idna<4,>=2.5 in c:\\users\\vinit\\desktop\\neuromorphic_asic_design\\env1\\lib\\site-packages (from requests<3,>=2.21.0->tensorboard<2.16,>=2.15->tensorflow-intel==2.15.0->tensorflow) (3.6)\n",
            "Requirement already satisfied: urllib3<3,>=1.21.1 in c:\\users\\vinit\\desktop\\neuromorphic_asic_design\\env1\\lib\\site-packages (from requests<3,>=2.21.0->tensorboard<2.16,>=2.15->tensorflow-intel==2.15.0->tensorflow) (2.1.0)\n",
            "Requirement already satisfied: certifi>=2017.4.17 in c:\\users\\vinit\\desktop\\neuromorphic_asic_design\\env1\\lib\\site-packages (from requests<3,>=2.21.0->tensorboard<2.16,>=2.15->tensorflow-intel==2.15.0->tensorflow) (2023.11.17)\n",
            "Requirement already satisfied: MarkupSafe>=2.1.1 in c:\\users\\vinit\\desktop\\neuromorphic_asic_design\\env1\\lib\\site-packages (from werkzeug>=1.0.1->tensorboard<2.16,>=2.15->tensorflow-intel==2.15.0->tensorflow) (2.1.5)\n",
            "Requirement already satisfied: pyasn1<0.6.0,>=0.4.6 in c:\\users\\vinit\\desktop\\neuromorphic_asic_design\\env1\\lib\\site-packages (from pyasn1-modules>=0.2.1->google-auth<3,>=1.6.3->tensorboard<2.16,>=2.15->tensorflow-intel==2.15.0->tensorflow) (0.5.1)\n",
            "Requirement already satisfied: oauthlib>=3.0.0 in c:\\users\\vinit\\desktop\\neuromorphic_asic_design\\env1\\lib\\site-packages (from requests-oauthlib>=0.7.0->google-auth-oauthlib<2,>=0.5->tensorboard<2.16,>=2.15->tensorflow-intel==2.15.0->tensorflow) (3.2.2)\n",
            "Requirement already satisfied: scikit-learn in c:\\users\\vinit\\desktop\\neuromorphic_asic_design\\env1\\lib\\site-packages (1.4.0)\n",
            "Requirement already satisfied: numpy<2.0,>=1.19.5 in c:\\users\\vinit\\desktop\\neuromorphic_asic_design\\env1\\lib\\site-packages (from scikit-learn) (1.26.3)\n",
            "Requirement already satisfied: scipy>=1.6.0 in c:\\users\\vinit\\desktop\\neuromorphic_asic_design\\env1\\lib\\site-packages (from scikit-learn) (1.12.0)\n",
            "Requirement already satisfied: joblib>=1.2.0 in c:\\users\\vinit\\desktop\\neuromorphic_asic_design\\env1\\lib\\site-packages (from scikit-learn) (1.3.2)\n",
            "Requirement already satisfied: threadpoolctl>=2.0.0 in c:\\users\\vinit\\desktop\\neuromorphic_asic_design\\env1\\lib\\site-packages (from scikit-learn) (3.2.0)\n",
            "Requirement already satisfied: keras in c:\\users\\vinit\\desktop\\neuromorphic_asic_design\\env1\\lib\\site-packages (2.15.0)\n"
          ]
        }
      ],
      "source": [
        "!pip install tensorflow\n",
        "!pip install scikit-learn\n",
        "!pip install keras"
      ]
    },
    {
      "cell_type": "code",
      "execution_count": 61,
      "metadata": {
        "id": "gNVC9fhe3N43"
      },
      "outputs": [
        {
          "name": "stdout",
          "output_type": "stream",
          "text": [
            "Current working directory: c:\\Users\\vinit\\Desktop\\Neuromorphic_ASIC_Design\n"
          ]
        }
      ],
      "source": [
        "import os\n",
        "ROOT_DIR = os.getcwd()\n",
        "print(\"Current working directory:\", ROOT_DIR)\n"
      ]
    },
    {
      "cell_type": "code",
      "execution_count": 62,
      "metadata": {
        "colab": {
          "base_uri": "https://localhost:8080/"
        },
        "id": "5kUw7IHv7lt3",
        "outputId": "a3399513-dbeb-4207-b0bb-e4ad56a49059"
      },
      "outputs": [
        {
          "name": "stdout",
          "output_type": "stream",
          "text": [
            "GPU is not available.\n"
          ]
        }
      ],
      "source": [
        "import tensorflow as tf\n",
        "\n",
        "if tf.config.list_physical_devices('GPU'):\n",
        "    print(\"GPU is available!\")\n",
        "else:\n",
        "    print(\"GPU is not available.\")\n"
      ]
    },
    {
      "cell_type": "code",
      "execution_count": 63,
      "metadata": {
        "colab": {
          "base_uri": "https://localhost:8080/"
        },
        "id": "ySNZk5Xs1z-T",
        "outputId": "dbd4538d-6746-4bd2-e02a-387861905ae3"
      },
      "outputs": [
        {
          "name": "stdout",
          "output_type": "stream",
          "text": [
            "Requirement already satisfied: ann_visualizer in c:\\users\\vinit\\desktop\\neuromorphic_asic_design\\env1\\lib\\site-packages (2.5)\n"
          ]
        }
      ],
      "source": [
        "!pip install ann_visualizer"
      ]
    },
    {
      "cell_type": "code",
      "execution_count": 64,
      "metadata": {
        "id": "kJc2-k6l0y7Q"
      },
      "outputs": [],
      "source": [
        "import os\n",
        "import numpy as np\n",
        "import pandas as pd\n",
        "from keras.models import Sequential\n",
        "from keras.layers import Dense\n",
        "# from ann_visualizer.visualize import ann_viz"
      ]
    },
    {
      "cell_type": "code",
      "execution_count": 65,
      "metadata": {
        "colab": {
          "base_uri": "https://localhost:8080/"
        },
        "id": "I9llLAgu7Fu4",
        "outputId": "5b508615-ed02-40e2-981e-09df07688bca"
      },
      "outputs": [
        {
          "name": "stdout",
          "output_type": "stream",
          "text": [
            "GPU Available: []\n"
          ]
        }
      ],
      "source": [
        "import tensorflow as tf\n",
        "print(\"GPU Available:\", tf.config.list_physical_devices('GPU'))\n",
        "os.environ[\"CUDA_VISIBLE_DEVICES\"] = \"0\""
      ]
    },
    {
      "cell_type": "code",
      "execution_count": 66,
      "metadata": {
        "id": "A6FxAQDj2gl1"
      },
      "outputs": [],
      "source": [
        "# def path_to_csv(file_number):\n",
        "#     filenumber = str(file_number) + '.csv'\n",
        "#     # for dirname, _, filenames in os.walk(''):\n",
        "#     for filename in filenames:\n",
        "#         if (filename == filenumber):\n",
        "#             file_path = os.path.join(dirname, filename)\n",
        "#             # print(os.path.join(dirname, file_number))\n",
        "#             return file_path"
      ]
    },
    {
      "cell_type": "code",
      "execution_count": 67,
      "metadata": {
        "id": "E2qeFgnH2kW3"
      },
      "outputs": [],
      "source": [
        "path = 'database\\\\MIT-BIH Arrhythmia Database.csv'"
      ]
    },
    {
      "cell_type": "code",
      "execution_count": 68,
      "metadata": {
        "colab": {
          "base_uri": "https://localhost:8080/",
          "height": 35
        },
        "id": "nselImcr4fhQ",
        "outputId": "a9b5b787-6166-4246-c5c7-c0a62f86f4d7"
      },
      "outputs": [],
      "source": [
        "file_path  = os.path.join(ROOT_DIR, path)"
      ]
    },
    {
      "cell_type": "code",
      "execution_count": 69,
      "metadata": {},
      "outputs": [
        {
          "data": {
            "text/plain": [
              "'c:\\\\Users\\\\vinit\\\\Desktop\\\\Neuromorphic_ASIC_Design\\\\database\\\\MIT-BIH Arrhythmia Database.csv'"
            ]
          },
          "execution_count": 69,
          "metadata": {},
          "output_type": "execute_result"
        }
      ],
      "source": [
        "file_path"
      ]
    },
    {
      "cell_type": "code",
      "execution_count": 70,
      "metadata": {
        "id": "nPPeUvQ83_7k"
      },
      "outputs": [],
      "source": [
        "# fix random seed for reproducibility\n",
        "# np.random.seed(7)"
      ]
    },
    {
      "cell_type": "code",
      "execution_count": 71,
      "metadata": {
        "id": "UPff8_074JNd"
      },
      "outputs": [],
      "source": [
        "# load MIT-BIH dataset\n",
        "dataset = pd.read_csv(file_path)"
      ]
    },
    {
      "cell_type": "code",
      "execution_count": 72,
      "metadata": {
        "id": "r3kW1b6W5VMi"
      },
      "outputs": [],
      "source": [
        "# split into input (X) and output (Y) variables\n",
        "X = dataset.iloc[:,9:13]\n",
        "X1 = dataset.iloc[:, 2:18]\n",
        "Y = dataset[['type']]"
      ]
    },
    {
      "cell_type": "code",
      "execution_count": 73,
      "metadata": {
        "colab": {
          "base_uri": "https://localhost:8080/",
          "height": 424
        },
        "id": "0iVwyRnnzfF3",
        "outputId": "0b862aee-a1be-4a5d-b6bc-cfe021299a49"
      },
      "outputs": [
        {
          "data": {
            "text/html": [
              "<div>\n",
              "<style scoped>\n",
              "    .dataframe tbody tr th:only-of-type {\n",
              "        vertical-align: middle;\n",
              "    }\n",
              "\n",
              "    .dataframe tbody tr th {\n",
              "        vertical-align: top;\n",
              "    }\n",
              "\n",
              "    .dataframe thead th {\n",
              "        text-align: right;\n",
              "    }\n",
              "</style>\n",
              "<table border=\"1\" class=\"dataframe\">\n",
              "  <thead>\n",
              "    <tr style=\"text-align: right;\">\n",
              "      <th></th>\n",
              "      <th>0_qrs_interval</th>\n",
              "      <th>0_pq_interval</th>\n",
              "      <th>0_qt_interval</th>\n",
              "      <th>0_st_interval</th>\n",
              "    </tr>\n",
              "  </thead>\n",
              "  <tbody>\n",
              "    <tr>\n",
              "      <th>0</th>\n",
              "      <td>41</td>\n",
              "      <td>18</td>\n",
              "      <td>66</td>\n",
              "      <td>7</td>\n",
              "    </tr>\n",
              "    <tr>\n",
              "      <th>1</th>\n",
              "      <td>21</td>\n",
              "      <td>4</td>\n",
              "      <td>33</td>\n",
              "      <td>8</td>\n",
              "    </tr>\n",
              "    <tr>\n",
              "      <th>2</th>\n",
              "      <td>22</td>\n",
              "      <td>3</td>\n",
              "      <td>32</td>\n",
              "      <td>7</td>\n",
              "    </tr>\n",
              "    <tr>\n",
              "      <th>3</th>\n",
              "      <td>22</td>\n",
              "      <td>4</td>\n",
              "      <td>33</td>\n",
              "      <td>7</td>\n",
              "    </tr>\n",
              "    <tr>\n",
              "      <th>4</th>\n",
              "      <td>11</td>\n",
              "      <td>4</td>\n",
              "      <td>16</td>\n",
              "      <td>1</td>\n",
              "    </tr>\n",
              "    <tr>\n",
              "      <th>...</th>\n",
              "      <td>...</td>\n",
              "      <td>...</td>\n",
              "      <td>...</td>\n",
              "      <td>...</td>\n",
              "    </tr>\n",
              "    <tr>\n",
              "      <th>100684</th>\n",
              "      <td>14</td>\n",
              "      <td>3</td>\n",
              "      <td>18</td>\n",
              "      <td>1</td>\n",
              "    </tr>\n",
              "    <tr>\n",
              "      <th>100685</th>\n",
              "      <td>13</td>\n",
              "      <td>5</td>\n",
              "      <td>19</td>\n",
              "      <td>1</td>\n",
              "    </tr>\n",
              "    <tr>\n",
              "      <th>100686</th>\n",
              "      <td>38</td>\n",
              "      <td>21</td>\n",
              "      <td>67</td>\n",
              "      <td>8</td>\n",
              "    </tr>\n",
              "    <tr>\n",
              "      <th>100687</th>\n",
              "      <td>27</td>\n",
              "      <td>5</td>\n",
              "      <td>40</td>\n",
              "      <td>8</td>\n",
              "    </tr>\n",
              "    <tr>\n",
              "      <th>100688</th>\n",
              "      <td>28</td>\n",
              "      <td>21</td>\n",
              "      <td>50</td>\n",
              "      <td>1</td>\n",
              "    </tr>\n",
              "  </tbody>\n",
              "</table>\n",
              "<p>100689 rows × 4 columns</p>\n",
              "</div>"
            ],
            "text/plain": [
              "        0_qrs_interval  0_pq_interval  0_qt_interval  0_st_interval\n",
              "0                   41             18             66              7\n",
              "1                   21              4             33              8\n",
              "2                   22              3             32              7\n",
              "3                   22              4             33              7\n",
              "4                   11              4             16              1\n",
              "...                ...            ...            ...            ...\n",
              "100684              14              3             18              1\n",
              "100685              13              5             19              1\n",
              "100686              38             21             67              8\n",
              "100687              27              5             40              8\n",
              "100688              28             21             50              1\n",
              "\n",
              "[100689 rows x 4 columns]"
            ]
          },
          "execution_count": 73,
          "metadata": {},
          "output_type": "execute_result"
        }
      ],
      "source": [
        "X"
      ]
    },
    {
      "cell_type": "code",
      "execution_count": 74,
      "metadata": {
        "colab": {
          "base_uri": "https://localhost:8080/",
          "height": 424
        },
        "id": "8ePL8m71qhR0",
        "outputId": "4a42b654-4ef9-436a-a652-a586b6555511"
      },
      "outputs": [
        {
          "data": {
            "text/html": [
              "<div>\n",
              "<style scoped>\n",
              "    .dataframe tbody tr th:only-of-type {\n",
              "        vertical-align: middle;\n",
              "    }\n",
              "\n",
              "    .dataframe tbody tr th {\n",
              "        vertical-align: top;\n",
              "    }\n",
              "\n",
              "    .dataframe thead th {\n",
              "        text-align: right;\n",
              "    }\n",
              "</style>\n",
              "<table border=\"1\" class=\"dataframe\">\n",
              "  <thead>\n",
              "    <tr style=\"text-align: right;\">\n",
              "      <th></th>\n",
              "      <th>0_pre-RR</th>\n",
              "      <th>0_post-RR</th>\n",
              "      <th>0_pPeak</th>\n",
              "      <th>0_tPeak</th>\n",
              "      <th>0_rPeak</th>\n",
              "      <th>0_sPeak</th>\n",
              "      <th>0_qPeak</th>\n",
              "      <th>0_qrs_interval</th>\n",
              "      <th>0_pq_interval</th>\n",
              "      <th>0_qt_interval</th>\n",
              "      <th>0_st_interval</th>\n",
              "      <th>0_qrs_morph0</th>\n",
              "      <th>0_qrs_morph1</th>\n",
              "      <th>0_qrs_morph2</th>\n",
              "      <th>0_qrs_morph3</th>\n",
              "      <th>0_qrs_morph4</th>\n",
              "    </tr>\n",
              "  </thead>\n",
              "  <tbody>\n",
              "    <tr>\n",
              "      <th>0</th>\n",
              "      <td>76</td>\n",
              "      <td>313.0</td>\n",
              "      <td>0.074347</td>\n",
              "      <td>-0.160548</td>\n",
              "      <td>1.036401</td>\n",
              "      <td>-0.285662</td>\n",
              "      <td>-0.026824</td>\n",
              "      <td>41</td>\n",
              "      <td>18</td>\n",
              "      <td>66</td>\n",
              "      <td>7</td>\n",
              "      <td>-0.026824</td>\n",
              "      <td>-0.001236</td>\n",
              "      <td>0.016659</td>\n",
              "      <td>0.143241</td>\n",
              "      <td>0.996287</td>\n",
              "    </tr>\n",
              "    <tr>\n",
              "      <th>1</th>\n",
              "      <td>313</td>\n",
              "      <td>315.0</td>\n",
              "      <td>-0.052079</td>\n",
              "      <td>-0.264784</td>\n",
              "      <td>0.886597</td>\n",
              "      <td>-0.366298</td>\n",
              "      <td>-0.059710</td>\n",
              "      <td>21</td>\n",
              "      <td>4</td>\n",
              "      <td>33</td>\n",
              "      <td>8</td>\n",
              "      <td>-0.059710</td>\n",
              "      <td>0.104030</td>\n",
              "      <td>0.691891</td>\n",
              "      <td>0.805549</td>\n",
              "      <td>0.084069</td>\n",
              "    </tr>\n",
              "    <tr>\n",
              "      <th>2</th>\n",
              "      <td>315</td>\n",
              "      <td>321.0</td>\n",
              "      <td>-0.062151</td>\n",
              "      <td>-0.296983</td>\n",
              "      <td>0.991859</td>\n",
              "      <td>-0.410306</td>\n",
              "      <td>-0.065686</td>\n",
              "      <td>22</td>\n",
              "      <td>3</td>\n",
              "      <td>32</td>\n",
              "      <td>7</td>\n",
              "      <td>-0.065686</td>\n",
              "      <td>0.051459</td>\n",
              "      <td>0.630419</td>\n",
              "      <td>0.890794</td>\n",
              "      <td>0.091258</td>\n",
              "    </tr>\n",
              "    <tr>\n",
              "      <th>3</th>\n",
              "      <td>321</td>\n",
              "      <td>336.0</td>\n",
              "      <td>-0.063322</td>\n",
              "      <td>-0.281386</td>\n",
              "      <td>1.034903</td>\n",
              "      <td>-0.403880</td>\n",
              "      <td>-0.071750</td>\n",
              "      <td>22</td>\n",
              "      <td>4</td>\n",
              "      <td>33</td>\n",
              "      <td>7</td>\n",
              "      <td>-0.071750</td>\n",
              "      <td>0.059376</td>\n",
              "      <td>0.652814</td>\n",
              "      <td>0.948490</td>\n",
              "      <td>0.136602</td>\n",
              "    </tr>\n",
              "    <tr>\n",
              "      <th>4</th>\n",
              "      <td>336</td>\n",
              "      <td>344.0</td>\n",
              "      <td>-0.062915</td>\n",
              "      <td>1.046914</td>\n",
              "      <td>1.046408</td>\n",
              "      <td>1.046408</td>\n",
              "      <td>-0.074639</td>\n",
              "      <td>11</td>\n",
              "      <td>4</td>\n",
              "      <td>16</td>\n",
              "      <td>1</td>\n",
              "      <td>-0.074639</td>\n",
              "      <td>-0.054516</td>\n",
              "      <td>0.052823</td>\n",
              "      <td>0.296038</td>\n",
              "      <td>0.649990</td>\n",
              "    </tr>\n",
              "    <tr>\n",
              "      <th>...</th>\n",
              "      <td>...</td>\n",
              "      <td>...</td>\n",
              "      <td>...</td>\n",
              "      <td>...</td>\n",
              "      <td>...</td>\n",
              "      <td>...</td>\n",
              "      <td>...</td>\n",
              "      <td>...</td>\n",
              "      <td>...</td>\n",
              "      <td>...</td>\n",
              "      <td>...</td>\n",
              "      <td>...</td>\n",
              "      <td>...</td>\n",
              "      <td>...</td>\n",
              "      <td>...</td>\n",
              "      <td>...</td>\n",
              "    </tr>\n",
              "    <tr>\n",
              "      <th>100684</th>\n",
              "      <td>240</td>\n",
              "      <td>241.0</td>\n",
              "      <td>-0.110230</td>\n",
              "      <td>1.420339</td>\n",
              "      <td>1.403346</td>\n",
              "      <td>1.403346</td>\n",
              "      <td>-0.115682</td>\n",
              "      <td>14</td>\n",
              "      <td>3</td>\n",
              "      <td>18</td>\n",
              "      <td>1</td>\n",
              "      <td>-0.115682</td>\n",
              "      <td>-0.106950</td>\n",
              "      <td>0.004810</td>\n",
              "      <td>0.357184</td>\n",
              "      <td>0.949106</td>\n",
              "    </tr>\n",
              "    <tr>\n",
              "      <th>100685</th>\n",
              "      <td>241</td>\n",
              "      <td>243.0</td>\n",
              "      <td>-0.119014</td>\n",
              "      <td>1.424782</td>\n",
              "      <td>1.420328</td>\n",
              "      <td>1.420328</td>\n",
              "      <td>-0.134406</td>\n",
              "      <td>13</td>\n",
              "      <td>5</td>\n",
              "      <td>19</td>\n",
              "      <td>1</td>\n",
              "      <td>-0.134406</td>\n",
              "      <td>-0.119884</td>\n",
              "      <td>0.040192</td>\n",
              "      <td>0.311047</td>\n",
              "      <td>0.943879</td>\n",
              "    </tr>\n",
              "    <tr>\n",
              "      <th>100686</th>\n",
              "      <td>243</td>\n",
              "      <td>252.0</td>\n",
              "      <td>0.173524</td>\n",
              "      <td>-0.443214</td>\n",
              "      <td>1.436878</td>\n",
              "      <td>-0.714642</td>\n",
              "      <td>-0.136431</td>\n",
              "      <td>38</td>\n",
              "      <td>21</td>\n",
              "      <td>67</td>\n",
              "      <td>8</td>\n",
              "      <td>-0.136431</td>\n",
              "      <td>-0.113058</td>\n",
              "      <td>-0.079363</td>\n",
              "      <td>0.662502</td>\n",
              "      <td>1.022350</td>\n",
              "    </tr>\n",
              "    <tr>\n",
              "      <th>100687</th>\n",
              "      <td>252</td>\n",
              "      <td>244.0</td>\n",
              "      <td>-0.119820</td>\n",
              "      <td>-0.401522</td>\n",
              "      <td>1.337051</td>\n",
              "      <td>-0.688560</td>\n",
              "      <td>-0.125076</td>\n",
              "      <td>27</td>\n",
              "      <td>5</td>\n",
              "      <td>40</td>\n",
              "      <td>8</td>\n",
              "      <td>-0.125076</td>\n",
              "      <td>-0.076065</td>\n",
              "      <td>0.361810</td>\n",
              "      <td>1.337051</td>\n",
              "      <td>0.458306</td>\n",
              "    </tr>\n",
              "    <tr>\n",
              "      <th>100688</th>\n",
              "      <td>244</td>\n",
              "      <td>236.0</td>\n",
              "      <td>0.162909</td>\n",
              "      <td>1.416672</td>\n",
              "      <td>1.409440</td>\n",
              "      <td>1.409440</td>\n",
              "      <td>-0.118397</td>\n",
              "      <td>28</td>\n",
              "      <td>21</td>\n",
              "      <td>50</td>\n",
              "      <td>1</td>\n",
              "      <td>-0.118397</td>\n",
              "      <td>-0.113282</td>\n",
              "      <td>-0.094579</td>\n",
              "      <td>-0.082138</td>\n",
              "      <td>0.374820</td>\n",
              "    </tr>\n",
              "  </tbody>\n",
              "</table>\n",
              "<p>100689 rows × 16 columns</p>\n",
              "</div>"
            ],
            "text/plain": [
              "        0_pre-RR  0_post-RR   0_pPeak   0_tPeak   0_rPeak   0_sPeak   0_qPeak  \\\n",
              "0             76      313.0  0.074347 -0.160548  1.036401 -0.285662 -0.026824   \n",
              "1            313      315.0 -0.052079 -0.264784  0.886597 -0.366298 -0.059710   \n",
              "2            315      321.0 -0.062151 -0.296983  0.991859 -0.410306 -0.065686   \n",
              "3            321      336.0 -0.063322 -0.281386  1.034903 -0.403880 -0.071750   \n",
              "4            336      344.0 -0.062915  1.046914  1.046408  1.046408 -0.074639   \n",
              "...          ...        ...       ...       ...       ...       ...       ...   \n",
              "100684       240      241.0 -0.110230  1.420339  1.403346  1.403346 -0.115682   \n",
              "100685       241      243.0 -0.119014  1.424782  1.420328  1.420328 -0.134406   \n",
              "100686       243      252.0  0.173524 -0.443214  1.436878 -0.714642 -0.136431   \n",
              "100687       252      244.0 -0.119820 -0.401522  1.337051 -0.688560 -0.125076   \n",
              "100688       244      236.0  0.162909  1.416672  1.409440  1.409440 -0.118397   \n",
              "\n",
              "        0_qrs_interval  0_pq_interval  0_qt_interval  0_st_interval  \\\n",
              "0                   41             18             66              7   \n",
              "1                   21              4             33              8   \n",
              "2                   22              3             32              7   \n",
              "3                   22              4             33              7   \n",
              "4                   11              4             16              1   \n",
              "...                ...            ...            ...            ...   \n",
              "100684              14              3             18              1   \n",
              "100685              13              5             19              1   \n",
              "100686              38             21             67              8   \n",
              "100687              27              5             40              8   \n",
              "100688              28             21             50              1   \n",
              "\n",
              "        0_qrs_morph0  0_qrs_morph1  0_qrs_morph2  0_qrs_morph3  0_qrs_morph4  \n",
              "0          -0.026824     -0.001236      0.016659      0.143241      0.996287  \n",
              "1          -0.059710      0.104030      0.691891      0.805549      0.084069  \n",
              "2          -0.065686      0.051459      0.630419      0.890794      0.091258  \n",
              "3          -0.071750      0.059376      0.652814      0.948490      0.136602  \n",
              "4          -0.074639     -0.054516      0.052823      0.296038      0.649990  \n",
              "...              ...           ...           ...           ...           ...  \n",
              "100684     -0.115682     -0.106950      0.004810      0.357184      0.949106  \n",
              "100685     -0.134406     -0.119884      0.040192      0.311047      0.943879  \n",
              "100686     -0.136431     -0.113058     -0.079363      0.662502      1.022350  \n",
              "100687     -0.125076     -0.076065      0.361810      1.337051      0.458306  \n",
              "100688     -0.118397     -0.113282     -0.094579     -0.082138      0.374820  \n",
              "\n",
              "[100689 rows x 16 columns]"
            ]
          },
          "execution_count": 74,
          "metadata": {},
          "output_type": "execute_result"
        }
      ],
      "source": [
        "X1"
      ]
    },
    {
      "cell_type": "code",
      "execution_count": 75,
      "metadata": {
        "colab": {
          "base_uri": "https://localhost:8080/",
          "height": 424
        },
        "id": "4ndofaFAdBRo",
        "outputId": "4728a7c5-33ec-4be1-84df-8c11b4dac89e"
      },
      "outputs": [
        {
          "data": {
            "text/html": [
              "<div>\n",
              "<style scoped>\n",
              "    .dataframe tbody tr th:only-of-type {\n",
              "        vertical-align: middle;\n",
              "    }\n",
              "\n",
              "    .dataframe tbody tr th {\n",
              "        vertical-align: top;\n",
              "    }\n",
              "\n",
              "    .dataframe thead th {\n",
              "        text-align: right;\n",
              "    }\n",
              "</style>\n",
              "<table border=\"1\" class=\"dataframe\">\n",
              "  <thead>\n",
              "    <tr style=\"text-align: right;\">\n",
              "      <th></th>\n",
              "      <th>type</th>\n",
              "    </tr>\n",
              "  </thead>\n",
              "  <tbody>\n",
              "    <tr>\n",
              "      <th>0</th>\n",
              "      <td>N</td>\n",
              "    </tr>\n",
              "    <tr>\n",
              "      <th>1</th>\n",
              "      <td>N</td>\n",
              "    </tr>\n",
              "    <tr>\n",
              "      <th>2</th>\n",
              "      <td>N</td>\n",
              "    </tr>\n",
              "    <tr>\n",
              "      <th>3</th>\n",
              "      <td>N</td>\n",
              "    </tr>\n",
              "    <tr>\n",
              "      <th>4</th>\n",
              "      <td>N</td>\n",
              "    </tr>\n",
              "    <tr>\n",
              "      <th>...</th>\n",
              "      <td>...</td>\n",
              "    </tr>\n",
              "    <tr>\n",
              "      <th>100684</th>\n",
              "      <td>N</td>\n",
              "    </tr>\n",
              "    <tr>\n",
              "      <th>100685</th>\n",
              "      <td>N</td>\n",
              "    </tr>\n",
              "    <tr>\n",
              "      <th>100686</th>\n",
              "      <td>N</td>\n",
              "    </tr>\n",
              "    <tr>\n",
              "      <th>100687</th>\n",
              "      <td>N</td>\n",
              "    </tr>\n",
              "    <tr>\n",
              "      <th>100688</th>\n",
              "      <td>N</td>\n",
              "    </tr>\n",
              "  </tbody>\n",
              "</table>\n",
              "<p>100689 rows × 1 columns</p>\n",
              "</div>"
            ],
            "text/plain": [
              "       type\n",
              "0         N\n",
              "1         N\n",
              "2         N\n",
              "3         N\n",
              "4         N\n",
              "...     ...\n",
              "100684    N\n",
              "100685    N\n",
              "100686    N\n",
              "100687    N\n",
              "100688    N\n",
              "\n",
              "[100689 rows x 1 columns]"
            ]
          },
          "execution_count": 75,
          "metadata": {},
          "output_type": "execute_result"
        }
      ],
      "source": [
        "Y"
      ]
    },
    {
      "cell_type": "code",
      "execution_count": 76,
      "metadata": {
        "id": "khaZ51KSzjQs"
      },
      "outputs": [],
      "source": [
        "# normalize data\n",
        "from sklearn.preprocessing import MinMaxScaler\n",
        "\n",
        "scaler = MinMaxScaler()\n",
        "X_train_scaled = scaler.fit_transform(X1)\n",
        "\n",
        "# dataset_normalized = pd.read_csv(scaler.fit_transform(path), columns=path.columns)"
      ]
    },
    {
      "cell_type": "code",
      "execution_count": 77,
      "metadata": {
        "colab": {
          "base_uri": "https://localhost:8080/"
        },
        "id": "tPq0aZffz8Sx",
        "outputId": "280a8330-daa4-437e-9c6e-a8388f25b47a"
      },
      "outputs": [
        {
          "data": {
            "text/plain": [
              "array([[0.03090823, 0.14563567, 0.4582075 , ..., 0.46292784, 0.504573  ,\n",
              "        0.71385065],\n",
              "       [0.14360437, 0.14658444, 0.43992598, ..., 0.57233506, 0.61105336,\n",
              "        0.55433891],\n",
              "       [0.1445554 , 0.14943074, 0.43846948, ..., 0.5623748 , 0.62475823,\n",
              "        0.55559615],\n",
              "       ...,\n",
              "       [0.11031859, 0.11669829, 0.4725488 , ..., 0.44736963, 0.58805536,\n",
              "        0.718408  ],\n",
              "       [0.11459819, 0.11290323, 0.43013046, ..., 0.51885245, 0.69650374,\n",
              "        0.61977857],\n",
              "       [0.1107941 , 0.10910816, 0.4710137 , ..., 0.44490411, 0.46833847,\n",
              "        0.60518005]])"
            ]
          },
          "execution_count": 77,
          "metadata": {},
          "output_type": "execute_result"
        }
      ],
      "source": [
        "\n",
        "# min_max_scaler = preprocessing.MinMaxScaler()\n",
        "# X_train_scaled = min_max_scaler.fit_transform(X_train)\n",
        "# X_test_scaled = min_max_scaler.transform(X_test)\n",
        "\n",
        "# print(scaler.scale_)\n",
        "\n",
        "X_train_scaled"
      ]
    },
    {
      "cell_type": "code",
      "execution_count": 78,
      "metadata": {
        "colab": {
          "base_uri": "https://localhost:8080/"
        },
        "id": "dYehvX0AztEf",
        "outputId": "aa27d535-9a1c-425d-b022-d05dd9904fdc"
      },
      "outputs": [
        {
          "name": "stderr",
          "output_type": "stream",
          "text": [
            "C:\\Users\\vinit\\AppData\\Local\\Temp\\ipykernel_4788\\1281512207.py:2: FutureWarning: Downcasting behavior in `replace` is deprecated and will be removed in a future version. To retain the old behavior, explicitly call `result.infer_objects(copy=False)`. To opt-in to the future behavior, set `pd.set_option('future.no_silent_downcasting', True)`\n",
            "  Y.replace(['N','VEB', 'SVEB', 'F', 'Q'], [0,1,2,3,4], inplace=True)\n",
            "C:\\Users\\vinit\\AppData\\Local\\Temp\\ipykernel_4788\\1281512207.py:2: SettingWithCopyWarning: \n",
            "A value is trying to be set on a copy of a slice from a DataFrame\n",
            "\n",
            "See the caveats in the documentation: https://pandas.pydata.org/pandas-docs/stable/user_guide/indexing.html#returning-a-view-versus-a-copy\n",
            "  Y.replace(['N','VEB', 'SVEB', 'F', 'Q'], [0,1,2,3,4], inplace=True)\n"
          ]
        }
      ],
      "source": [
        "#Class Renaming\n",
        "Y.replace(['N','VEB', 'SVEB', 'F', 'Q'], [0,1,2,3,4], inplace=True)"
      ]
    },
    {
      "cell_type": "code",
      "execution_count": 79,
      "metadata": {
        "colab": {
          "base_uri": "https://localhost:8080/",
          "height": 424
        },
        "id": "WdM-5SaSEot_",
        "outputId": "72540f22-9922-4604-dfe0-68a89a6d6854"
      },
      "outputs": [
        {
          "data": {
            "text/html": [
              "<div>\n",
              "<style scoped>\n",
              "    .dataframe tbody tr th:only-of-type {\n",
              "        vertical-align: middle;\n",
              "    }\n",
              "\n",
              "    .dataframe tbody tr th {\n",
              "        vertical-align: top;\n",
              "    }\n",
              "\n",
              "    .dataframe thead th {\n",
              "        text-align: right;\n",
              "    }\n",
              "</style>\n",
              "<table border=\"1\" class=\"dataframe\">\n",
              "  <thead>\n",
              "    <tr style=\"text-align: right;\">\n",
              "      <th></th>\n",
              "      <th>type</th>\n",
              "    </tr>\n",
              "  </thead>\n",
              "  <tbody>\n",
              "    <tr>\n",
              "      <th>0</th>\n",
              "      <td>0</td>\n",
              "    </tr>\n",
              "    <tr>\n",
              "      <th>1</th>\n",
              "      <td>0</td>\n",
              "    </tr>\n",
              "    <tr>\n",
              "      <th>2</th>\n",
              "      <td>0</td>\n",
              "    </tr>\n",
              "    <tr>\n",
              "      <th>3</th>\n",
              "      <td>0</td>\n",
              "    </tr>\n",
              "    <tr>\n",
              "      <th>4</th>\n",
              "      <td>0</td>\n",
              "    </tr>\n",
              "    <tr>\n",
              "      <th>...</th>\n",
              "      <td>...</td>\n",
              "    </tr>\n",
              "    <tr>\n",
              "      <th>100684</th>\n",
              "      <td>0</td>\n",
              "    </tr>\n",
              "    <tr>\n",
              "      <th>100685</th>\n",
              "      <td>0</td>\n",
              "    </tr>\n",
              "    <tr>\n",
              "      <th>100686</th>\n",
              "      <td>0</td>\n",
              "    </tr>\n",
              "    <tr>\n",
              "      <th>100687</th>\n",
              "      <td>0</td>\n",
              "    </tr>\n",
              "    <tr>\n",
              "      <th>100688</th>\n",
              "      <td>0</td>\n",
              "    </tr>\n",
              "  </tbody>\n",
              "</table>\n",
              "<p>100689 rows × 1 columns</p>\n",
              "</div>"
            ],
            "text/plain": [
              "        type\n",
              "0          0\n",
              "1          0\n",
              "2          0\n",
              "3          0\n",
              "4          0\n",
              "...      ...\n",
              "100684     0\n",
              "100685     0\n",
              "100686     0\n",
              "100687     0\n",
              "100688     0\n",
              "\n",
              "[100689 rows x 1 columns]"
            ]
          },
          "execution_count": 79,
          "metadata": {},
          "output_type": "execute_result"
        }
      ],
      "source": [
        "Y"
      ]
    },
    {
      "cell_type": "code",
      "execution_count": 80,
      "metadata": {
        "id": "GCiwBJ-ff4ck"
      },
      "outputs": [],
      "source": [
        "from sklearn.model_selection import train_test_split\n",
        "X_train, X_val, y_train, y_val = train_test_split(X_train_scaled , Y, test_size=0.2, random_state=42)"
      ]
    },
    {
      "cell_type": "code",
      "execution_count": 81,
      "metadata": {
        "colab": {
          "base_uri": "https://localhost:8080/"
        },
        "id": "MrUCXbc1q4wm",
        "outputId": "4afb5c10-08a3-4c1a-931c-285582bb01c8"
      },
      "outputs": [
        {
          "data": {
            "text/plain": [
              "array([[0.05563481, 0.14800759, 0.47444369, ..., 0.38952118, 0.40277381,\n",
              "        0.44931437],\n",
              "       [0.20874941, 0.21631879, 0.43982464, ..., 0.45954023, 0.49617954,\n",
              "        0.62750163],\n",
              "       [0.11364717, 0.11480076, 0.45576006, ..., 0.46877926, 0.52367554,\n",
              "        0.64345011],\n",
              "       ...,\n",
              "       [0.10699001, 0.11669829, 0.4338785 , ..., 0.45734564, 0.55305555,\n",
              "        0.67467391],\n",
              "       [0.1616738 , 0.16650854, 0.43913478, ..., 0.65288714, 0.47770755,\n",
              "        0.4654949 ],\n",
              "       [0.12791251, 0.12666034, 0.45418771, ..., 0.70079547, 0.95083891,\n",
              "        0.75894179]])"
            ]
          },
          "execution_count": 81,
          "metadata": {},
          "output_type": "execute_result"
        }
      ],
      "source": [
        "X_train"
      ]
    },
    {
      "cell_type": "code",
      "execution_count": 82,
      "metadata": {
        "colab": {
          "base_uri": "https://localhost:8080/",
          "height": 424
        },
        "id": "PRDXU8WOq9Ag",
        "outputId": "20c29ba8-61c8-4daf-c340-40f73350d8d0"
      },
      "outputs": [
        {
          "data": {
            "text/html": [
              "<div>\n",
              "<style scoped>\n",
              "    .dataframe tbody tr th:only-of-type {\n",
              "        vertical-align: middle;\n",
              "    }\n",
              "\n",
              "    .dataframe tbody tr th {\n",
              "        vertical-align: top;\n",
              "    }\n",
              "\n",
              "    .dataframe thead th {\n",
              "        text-align: right;\n",
              "    }\n",
              "</style>\n",
              "<table border=\"1\" class=\"dataframe\">\n",
              "  <thead>\n",
              "    <tr style=\"text-align: right;\">\n",
              "      <th></th>\n",
              "      <th>type</th>\n",
              "    </tr>\n",
              "  </thead>\n",
              "  <tbody>\n",
              "    <tr>\n",
              "      <th>73952</th>\n",
              "      <td>1</td>\n",
              "    </tr>\n",
              "    <tr>\n",
              "      <th>65959</th>\n",
              "      <td>0</td>\n",
              "    </tr>\n",
              "    <tr>\n",
              "      <th>68303</th>\n",
              "      <td>0</td>\n",
              "    </tr>\n",
              "    <tr>\n",
              "      <th>79334</th>\n",
              "      <td>1</td>\n",
              "    </tr>\n",
              "    <tr>\n",
              "      <th>39614</th>\n",
              "      <td>0</td>\n",
              "    </tr>\n",
              "    <tr>\n",
              "      <th>...</th>\n",
              "      <td>...</td>\n",
              "    </tr>\n",
              "    <tr>\n",
              "      <th>6265</th>\n",
              "      <td>0</td>\n",
              "    </tr>\n",
              "    <tr>\n",
              "      <th>54886</th>\n",
              "      <td>0</td>\n",
              "    </tr>\n",
              "    <tr>\n",
              "      <th>76820</th>\n",
              "      <td>0</td>\n",
              "    </tr>\n",
              "    <tr>\n",
              "      <th>860</th>\n",
              "      <td>0</td>\n",
              "    </tr>\n",
              "    <tr>\n",
              "      <th>15795</th>\n",
              "      <td>0</td>\n",
              "    </tr>\n",
              "  </tbody>\n",
              "</table>\n",
              "<p>80551 rows × 1 columns</p>\n",
              "</div>"
            ],
            "text/plain": [
              "       type\n",
              "73952     1\n",
              "65959     0\n",
              "68303     0\n",
              "79334     1\n",
              "39614     0\n",
              "...     ...\n",
              "6265      0\n",
              "54886     0\n",
              "76820     0\n",
              "860       0\n",
              "15795     0\n",
              "\n",
              "[80551 rows x 1 columns]"
            ]
          },
          "execution_count": 82,
          "metadata": {},
          "output_type": "execute_result"
        }
      ],
      "source": [
        "y_train"
      ]
    },
    {
      "cell_type": "code",
      "execution_count": 83,
      "metadata": {
        "colab": {
          "base_uri": "https://localhost:8080/",
          "height": 391
        },
        "id": "E-Cr-zMvFpGG",
        "outputId": "223563b8-b350-4793-e51e-79e80fcaeef5"
      },
      "outputs": [
        {
          "data": {
            "image/png": "[encoded data removed]",
            "text/plain": [
              "<Figure size 800x400 with 1 Axes>"
            ]
          },
          "metadata": {},
          "output_type": "display_data"
        }
      ],
      "source": [
        "from matplotlib import pyplot as plt\n",
        "Y['type'].plot(kind='line', figsize=(8, 4), title='type')\n",
        "plt.gca().spines[['top', 'right']].set_visible(False)\n",
        "plt.show()"
      ]
    },
    {
      "cell_type": "code",
      "execution_count": 84,
      "metadata": {
        "colab": {
          "base_uri": "https://localhost:8080/",
          "height": 452
        },
        "id": "INfwJMuhFnuO",
        "outputId": "d38dfa52-4f46-40fa-dd9a-2350d35f9106"
      },
      "outputs": [
        {
          "data": {
            "image/png": "[encoded data removed]",
            "text/plain": [
              "<Figure size 640x480 with 1 Axes>"
            ]
          },
          "metadata": {},
          "output_type": "display_data"
        }
      ],
      "source": [
        "from matplotlib import pyplot as plt\n",
        "Y['type'].plot(kind='hist', bins=20, title='type')\n",
        "plt.gca().spines[['top', 'right',]].set_visible(False)\n",
        "plt.show()"
      ]
    },
    {
      "cell_type": "code",
      "execution_count": 85,
      "metadata": {
        "id": "U8RXfYbo5sEt"
      },
      "outputs": [],
      "source": [
        "# create model\n",
        "model = Sequential()\n",
        "model.add(Dense(16, input_dim=16, activation='relu'))\n",
        "model.add(Dense(20, activation='relu'))\n",
        "model.add(Dense(20, activation='relu'))\n",
        "model.add(Dense(5, activation='softmax'))"
      ]
    },
    {
      "cell_type": "code",
      "execution_count": 86,
      "metadata": {
        "colab": {
          "base_uri": "https://localhost:8080/",
          "height": 1000
        },
        "id": "Vlg3N_Xg52il",
        "outputId": "151b4231-7b38-4abf-b15c-a60491b03859"
      },
      "outputs": [
        {
          "name": "stdout",
          "output_type": "stream",
          "text": [
            "Epoch 1/60\n",
            "8056/8056 [==============================] - 21s 2ms/step - loss: 0.2664 - accuracy: 0.9300 - val_loss: 0.2214 - val_accuracy: 0.9397\n",
            "Epoch 2/60\n",
            "8056/8056 [==============================] - 18s 2ms/step - loss: 0.2049 - accuracy: 0.9413 - val_loss: 0.1868 - val_accuracy: 0.9453\n",
            "Epoch 3/60\n",
            "8056/8056 [==============================] - 18s 2ms/step - loss: 0.1877 - accuracy: 0.9448 - val_loss: 0.1782 - val_accuracy: 0.9459\n",
            "Epoch 4/60\n",
            "8056/8056 [==============================] - 18s 2ms/step - loss: 0.1771 - accuracy: 0.9470 - val_loss: 0.1755 - val_accuracy: 0.9462\n",
            "Epoch 5/60\n",
            "8056/8056 [==============================] - 18s 2ms/step - loss: 0.1637 - accuracy: 0.9486 - val_loss: 0.1643 - val_accuracy: 0.9483\n",
            "Epoch 6/60\n",
            "8056/8056 [==============================] - 18s 2ms/step - loss: 0.1529 - accuracy: 0.9515 - val_loss: 0.1445 - val_accuracy: 0.9518\n",
            "Epoch 7/60\n",
            "8056/8056 [==============================] - 18s 2ms/step - loss: 0.1452 - accuracy: 0.9535 - val_loss: 0.1386 - val_accuracy: 0.9551\n",
            "Epoch 8/60\n",
            "8056/8056 [==============================] - 18s 2ms/step - loss: 0.1399 - accuracy: 0.9553 - val_loss: 0.1431 - val_accuracy: 0.9547\n",
            "Epoch 9/60\n",
            "8056/8056 [==============================] - 19s 2ms/step - loss: 0.1352 - accuracy: 0.9570 - val_loss: 0.1284 - val_accuracy: 0.9599\n",
            "Epoch 10/60\n",
            "8056/8056 [==============================] - 19s 2ms/step - loss: 0.1304 - accuracy: 0.9587 - val_loss: 0.1560 - val_accuracy: 0.9491\n",
            "Epoch 11/60\n",
            "8056/8056 [==============================] - 19s 2ms/step - loss: 0.1253 - accuracy: 0.9607 - val_loss: 0.1264 - val_accuracy: 0.9599\n",
            "Epoch 12/60\n",
            "8056/8056 [==============================] - 19s 2ms/step - loss: 0.1234 - accuracy: 0.9612 - val_loss: 0.1252 - val_accuracy: 0.9614\n",
            "Epoch 13/60\n",
            "8056/8056 [==============================] - 20s 2ms/step - loss: 0.1193 - accuracy: 0.9633 - val_loss: 0.1167 - val_accuracy: 0.9647\n",
            "Epoch 14/60\n",
            "8056/8056 [==============================] - 20s 2ms/step - loss: 0.1167 - accuracy: 0.9639 - val_loss: 0.1158 - val_accuracy: 0.9657\n",
            "Epoch 15/60\n",
            "8056/8056 [==============================] - 19s 2ms/step - loss: 0.1139 - accuracy: 0.9652 - val_loss: 0.1095 - val_accuracy: 0.9671\n",
            "Epoch 16/60\n",
            "8056/8056 [==============================] - 19s 2ms/step - loss: 0.1113 - accuracy: 0.9658 - val_loss: 0.1157 - val_accuracy: 0.9638\n",
            "Epoch 17/60\n",
            "8056/8056 [==============================] - 19s 2ms/step - loss: 0.1088 - accuracy: 0.9669 - val_loss: 0.1154 - val_accuracy: 0.9642\n",
            "Epoch 18/60\n",
            "8056/8056 [==============================] - 19s 2ms/step - loss: 0.1067 - accuracy: 0.9673 - val_loss: 0.1185 - val_accuracy: 0.9619\n",
            "Epoch 19/60\n",
            "8056/8056 [==============================] - 19s 2ms/step - loss: 0.1042 - accuracy: 0.9689 - val_loss: 0.0998 - val_accuracy: 0.9711\n",
            "Epoch 20/60\n",
            "8056/8056 [==============================] - 20s 2ms/step - loss: 0.1015 - accuracy: 0.9693 - val_loss: 0.1048 - val_accuracy: 0.9692\n",
            "Epoch 21/60\n",
            "8056/8056 [==============================] - 20s 2ms/step - loss: 0.1013 - accuracy: 0.9698 - val_loss: 0.0962 - val_accuracy: 0.9717\n",
            "Epoch 22/60\n",
            "8056/8056 [==============================] - 19s 2ms/step - loss: 0.1000 - accuracy: 0.9700 - val_loss: 0.1098 - val_accuracy: 0.9661\n",
            "Epoch 23/60\n",
            "8056/8056 [==============================] - 19s 2ms/step - loss: 0.0981 - accuracy: 0.9705 - val_loss: 0.1140 - val_accuracy: 0.9653\n",
            "Epoch 24/60\n",
            "8056/8056 [==============================] - 19s 2ms/step - loss: 0.0959 - accuracy: 0.9714 - val_loss: 0.0937 - val_accuracy: 0.9731\n",
            "Epoch 25/60\n",
            "8056/8056 [==============================] - 20s 3ms/step - loss: 0.0955 - accuracy: 0.9713 - val_loss: 0.1001 - val_accuracy: 0.9700\n",
            "Epoch 26/60\n",
            "8056/8056 [==============================] - 21s 3ms/step - loss: 0.0938 - accuracy: 0.9720 - val_loss: 0.1016 - val_accuracy: 0.9693\n",
            "Epoch 27/60\n",
            "8056/8056 [==============================] - 19s 2ms/step - loss: 0.0932 - accuracy: 0.9720 - val_loss: 0.0966 - val_accuracy: 0.9729\n",
            "Epoch 28/60\n",
            "8056/8056 [==============================] - 19s 2ms/step - loss: 0.0923 - accuracy: 0.9719 - val_loss: 0.1091 - val_accuracy: 0.9658\n",
            "Epoch 29/60\n",
            "8056/8056 [==============================] - 22s 3ms/step - loss: 0.0914 - accuracy: 0.9726 - val_loss: 0.1016 - val_accuracy: 0.9693\n",
            "Epoch 30/60\n",
            "8056/8056 [==============================] - 23s 3ms/step - loss: 0.0906 - accuracy: 0.9730 - val_loss: 0.0908 - val_accuracy: 0.9737\n",
            "Epoch 31/60\n",
            "8056/8056 [==============================] - 21s 3ms/step - loss: 0.0906 - accuracy: 0.9729 - val_loss: 0.0936 - val_accuracy: 0.9722\n",
            "Epoch 32/60\n",
            "8056/8056 [==============================] - 23s 3ms/step - loss: 0.0893 - accuracy: 0.9734 - val_loss: 0.1024 - val_accuracy: 0.9703\n",
            "Epoch 33/60\n",
            "8056/8056 [==============================] - 23s 3ms/step - loss: 0.0894 - accuracy: 0.9736 - val_loss: 0.0897 - val_accuracy: 0.9740\n",
            "Epoch 34/60\n",
            "8056/8056 [==============================] - 21s 3ms/step - loss: 0.0877 - accuracy: 0.9741 - val_loss: 0.0893 - val_accuracy: 0.9739\n",
            "Epoch 35/60\n",
            "8056/8056 [==============================] - 19s 2ms/step - loss: 0.0875 - accuracy: 0.9736 - val_loss: 0.0989 - val_accuracy: 0.9699\n",
            "Epoch 36/60\n",
            "8056/8056 [==============================] - 20s 2ms/step - loss: 0.0872 - accuracy: 0.9738 - val_loss: 0.1004 - val_accuracy: 0.9685\n",
            "Epoch 37/60\n",
            "8056/8056 [==============================] - 20s 3ms/step - loss: 0.0867 - accuracy: 0.9741 - val_loss: 0.0836 - val_accuracy: 0.9764\n",
            "Epoch 38/60\n",
            "8056/8056 [==============================] - 21s 3ms/step - loss: 0.0864 - accuracy: 0.9746 - val_loss: 0.0933 - val_accuracy: 0.9740\n",
            "Epoch 39/60\n",
            "8056/8056 [==============================] - 20s 3ms/step - loss: 0.0866 - accuracy: 0.9737 - val_loss: 0.0981 - val_accuracy: 0.9705\n",
            "Epoch 40/60\n",
            "8056/8056 [==============================] - 20s 3ms/step - loss: 0.0853 - accuracy: 0.9747 - val_loss: 0.0843 - val_accuracy: 0.9756\n",
            "Epoch 41/60\n",
            "8056/8056 [==============================] - 21s 3ms/step - loss: 0.0849 - accuracy: 0.9744 - val_loss: 0.0877 - val_accuracy: 0.9746\n",
            "Epoch 42/60\n",
            "8056/8056 [==============================] - 20s 3ms/step - loss: 0.0840 - accuracy: 0.9748 - val_loss: 0.0840 - val_accuracy: 0.9751\n",
            "Epoch 43/60\n",
            "8056/8056 [==============================] - 20s 2ms/step - loss: 0.0834 - accuracy: 0.9747 - val_loss: 0.0875 - val_accuracy: 0.9753\n",
            "Epoch 44/60\n",
            "8056/8056 [==============================] - 20s 2ms/step - loss: 0.0836 - accuracy: 0.9748 - val_loss: 0.1308 - val_accuracy: 0.9594\n",
            "Epoch 45/60\n",
            "8056/8056 [==============================] - 20s 2ms/step - loss: 0.0826 - accuracy: 0.9753 - val_loss: 0.0881 - val_accuracy: 0.9751\n",
            "Epoch 46/60\n",
            "8056/8056 [==============================] - 20s 2ms/step - loss: 0.0824 - accuracy: 0.9754 - val_loss: 0.0906 - val_accuracy: 0.9733\n",
            "Epoch 47/60\n",
            "8056/8056 [==============================] - 19s 2ms/step - loss: 0.0822 - accuracy: 0.9756 - val_loss: 0.0873 - val_accuracy: 0.9747\n",
            "Epoch 48/60\n",
            "8056/8056 [==============================] - 19s 2ms/step - loss: 0.0818 - accuracy: 0.9756 - val_loss: 0.0905 - val_accuracy: 0.9733\n",
            "Epoch 49/60\n",
            "8056/8056 [==============================] - 19s 2ms/step - loss: 0.0810 - accuracy: 0.9761 - val_loss: 0.0868 - val_accuracy: 0.9748\n",
            "Epoch 50/60\n",
            "8056/8056 [==============================] - 19s 2ms/step - loss: 0.0814 - accuracy: 0.9756 - val_loss: 0.0911 - val_accuracy: 0.9739\n",
            "Epoch 51/60\n",
            "8056/8056 [==============================] - 19s 2ms/step - loss: 0.0812 - accuracy: 0.9757 - val_loss: 0.1201 - val_accuracy: 0.9655\n",
            "Epoch 52/60\n",
            "8056/8056 [==============================] - 19s 2ms/step - loss: 0.0802 - accuracy: 0.9762 - val_loss: 0.0830 - val_accuracy: 0.9756\n",
            "Epoch 53/60\n",
            "8056/8056 [==============================] - 19s 2ms/step - loss: 0.0804 - accuracy: 0.9763 - val_loss: 0.1038 - val_accuracy: 0.9698\n",
            "Epoch 54/60\n",
            "8056/8056 [==============================] - 19s 2ms/step - loss: 0.0799 - accuracy: 0.9763 - val_loss: 0.0891 - val_accuracy: 0.9739\n",
            "Epoch 55/60\n",
            "8056/8056 [==============================] - 19s 2ms/step - loss: 0.0791 - accuracy: 0.9766 - val_loss: 0.0935 - val_accuracy: 0.9730\n",
            "Epoch 56/60\n",
            "8056/8056 [==============================] - 19s 2ms/step - loss: 0.0797 - accuracy: 0.9760 - val_loss: 0.0797 - val_accuracy: 0.9774\n",
            "Epoch 57/60\n",
            "8056/8056 [==============================] - 19s 2ms/step - loss: 0.0792 - accuracy: 0.9764 - val_loss: 0.0862 - val_accuracy: 0.9753\n",
            "Epoch 58/60\n",
            "8056/8056 [==============================] - 19s 2ms/step - loss: 0.0792 - accuracy: 0.9763 - val_loss: 0.0923 - val_accuracy: 0.9722\n",
            "Epoch 59/60\n",
            "8056/8056 [==============================] - 19s 2ms/step - loss: 0.0784 - accuracy: 0.9763 - val_loss: 0.0918 - val_accuracy: 0.9745\n",
            "Epoch 60/60\n",
            "8056/8056 [==============================] - 19s 2ms/step - loss: 0.0778 - accuracy: 0.9763 - val_loss: 0.0831 - val_accuracy: 0.9770\n"
          ]
        },
        {
          "data": {
            "text/plain": [
              "<keras.src.callbacks.History at 0x2e9eefef1c0>"
            ]
          },
          "execution_count": 86,
          "metadata": {},
          "output_type": "execute_result"
        }
      ],
      "source": [
        "# Compile model\n",
        "from keras.optimizers import Adamax\n",
        "# my_optimizer = Adamax(lr=0.002, beta_1=0.9, beta_2=0.999)\n",
        "model.compile(loss='sparse_categorical_crossentropy', optimizer= 'adam', metrics=['accuracy'])\n",
        "# Fit the model\n",
        "model.fit(X_train, y_train, epochs=60, batch_size=10,validation_data=(X_val, y_val))\n",
        "# evaluate the model\n"
      ]
    },
    {
      "cell_type": "code",
      "execution_count": 87,
      "metadata": {
        "colab": {
          "base_uri": "https://localhost:8080/"
        },
        "id": "hoX73vYi57Qk",
        "outputId": "669dd3f9-9b27-4583-f1eb-13b5722f1a70"
      },
      "outputs": [
        {
          "data": {
            "text/plain": [
              "<keras.src.engine.sequential.Sequential at 0x2e9ef021c30>"
            ]
          },
          "execution_count": 87,
          "metadata": {},
          "output_type": "execute_result"
        }
      ],
      "source": [
        "model"
      ]
    },
    {
      "cell_type": "code",
      "execution_count": 88,
      "metadata": {
        "colab": {
          "base_uri": "https://localhost:8080/"
        },
        "id": "2XjNPqmf59It",
        "outputId": "51c2744c-8424-4171-bb28-116ef4c0c54c"
      },
      "outputs": [
        {
          "name": "stdout",
          "output_type": "stream",
          "text": [
            "2518/2518 [==============================] - 4s 2ms/step - loss: 0.0716 - accuracy: 0.9782\n",
            "\n",
            "accuracy: 97.82%\n"
          ]
        }
      ],
      "source": [
        "scores = model.evaluate(X_train, y_train)\n",
        "print(\"\\n%s: %.2f%%\" % (model.metrics_names[1], scores[1]*100))\n"
      ]
    },
    {
      "cell_type": "code",
      "execution_count": 55,
      "metadata": {
        "colab": {
          "base_uri": "https://localhost:8080/"
        },
        "id": "jRcCGYwL3fe3",
        "outputId": "7b31e58c-87b4-4e16-cc81-9e8b75c62cc4"
      },
      "outputs": [
        {
          "name": "stderr",
          "output_type": "stream",
          "text": [
            "c:\\Users\\vinit\\Desktop\\Neuromorphic_ASIC_Design\\env1\\lib\\site-packages\\keras\\src\\engine\\training.py:3103: UserWarning: You are saving your model as an HDF5 file via `model.save()`. This file format is considered legacy. We recommend using instead the native Keras format, e.g. `model.save('my_model.keras')`.\n",
            "  saving_api.save_model(\n"
          ]
        }
      ],
      "source": [
        "# Save model\n",
        "model.save('model1_ECG.h5')\n",
        "\n",
        "file_path = os.path.join(ROOT_DIR, 'model1_ECG_16_20_20_5.h5')\n",
        "model.save(file_path)"
      ]
    },
    {
      "cell_type": "code",
      "execution_count": 56,
      "metadata": {
        "colab": {
          "base_uri": "https://localhost:8080/",
          "height": 17
        },
        "id": "vDspDZSJ3uvb",
        "outputId": "f95421a0-a976-416a-9b20-736186cdbcc4"
      },
      "outputs": [],
      "source": [
        "# from google.colab import files\n",
        "\n",
        "# # Download the file\n",
        "# files.download('model1_ECG.h5')"
      ]
    },
    {
      "cell_type": "code",
      "execution_count": null,
      "metadata": {
        "id": "1_k-tUTu6Fk3"
      },
      "outputs": [],
      "source": [
        "# Visualization\n",
        "# from keras.layers import Dense\n",
        "# from ann_visualizer.visualize import ann_viz\n",
        "\n",
        "# ann_viz(model, title=\"My graph\")"
      ]
    },
    {
      "cell_type": "code",
      "execution_count": 58,
      "metadata": {
        "colab": {
          "base_uri": "https://localhost:8080/"
        },
        "id": "nf2lneB-1_Hi",
        "outputId": "cbac42a5-acde-4ca2-ac0c-0dfe655d7392"
      },
      "outputs": [
        {
          "name": "stdout",
          "output_type": "stream",
          "text": [
            "       0_pre-RR  0_post-RR   0_pPeak   0_tPeak   0_rPeak   0_sPeak   0_qPeak  \\\n",
            "80535       142      475.0  0.374967  0.864401  1.231756 -1.563750  0.312146   \n",
            "80536       475      243.0 -0.038764  0.532946  1.549880 -0.907838 -0.045855   \n",
            "80537       292      490.0  0.061402 -0.841308  1.198001 -0.842962  0.036835   \n",
            "80538       490      285.0 -0.035138  0.480962  1.498671 -0.747598 -0.054817   \n",
            "80539       285      286.0  0.018809  0.374950  1.481828 -0.821432 -0.102613   \n",
            "80540       286      307.0 -0.023164  0.441048  1.470028 -0.853028 -0.025316   \n",
            "80541       307      321.0 -0.096018 -0.445309  1.484372 -0.447734 -0.096632   \n",
            "80542       321      145.0  0.001694 -0.567204  1.417283 -0.572898 -0.120361   \n",
            "80543       145      475.0  0.437648  0.903305  1.264013 -1.408824  0.419178   \n",
            "80544       475      302.0 -0.071585  0.482076  1.543105 -0.835073 -0.078378   \n",
            "\n",
            "       0_qrs_interval  0_pq_interval  0_qt_interval  0_st_interval  \\\n",
            "80535              37             14            105             54   \n",
            "80536              55              3            175            117   \n",
            "80537              62             11             75              2   \n",
            "80538              70              8            164             86   \n",
            "80539              65             24            171             82   \n",
            "80540              51              3            140             86   \n",
            "80541              49              4             54              1   \n",
            "80542              65             35            102              2   \n",
            "80543              34             11             93             48   \n",
            "80544              48              4            143             91   \n",
            "\n",
            "       0_qrs_morph0  0_qrs_morph1  0_qrs_morph2  0_qrs_morph3  0_qrs_morph4  \n",
            "80535      0.312146      0.430072      0.985309      1.124746     -0.364415  \n",
            "80536     -0.045855      0.638468      1.489605     -0.564245     -0.762524  \n",
            "80537      0.036835      0.387031      0.944289      1.056767     -0.125508  \n",
            "80538     -0.054817      0.012364      0.416478      1.254773     -0.379221  \n",
            "80539     -0.102613     -0.056352      0.417693      1.016528     -0.515468  \n",
            "80540     -0.025316      0.562750      1.443884     -0.343056     -0.590636  \n",
            "80541     -0.096632     -0.071983     -0.009903      0.803392      1.043495  \n",
            "80542     -0.120361     -0.090640     -0.060110      0.488622      1.321586  \n",
            "80543      0.419178      0.532879      1.021042      1.201598     -0.451454  \n",
            "80544     -0.078378      0.470832      1.534513     -0.285288     -0.671309  \n",
            "1/1 [==============================] - 0s 135ms/step\n",
            "[[1.8576073e-03 9.9814105e-01 5.3607300e-07 4.6721887e-10 7.9726618e-07]\n",
            " [9.9493355e-01 5.0664772e-03 2.2357877e-31 4.8879450e-13 8.0663277e-22]\n",
            " [1.1353846e-02 9.8862553e-01 1.2768351e-06 1.8109206e-06 1.7638031e-05]\n",
            " [9.9972373e-01 2.7627667e-04 3.0082075e-36 6.3702159e-15 2.2998081e-25]\n",
            " [9.9999785e-01 2.1053477e-06 8.0230067e-19 3.7053943e-11 2.1030527e-13]\n",
            " [9.9970299e-01 2.9676003e-04 8.1822951e-12 2.3919918e-07 2.8093403e-08]\n",
            " [1.0000000e+00 4.5006211e-15 4.9236702e-17 3.3948293e-12 6.8917198e-23]\n",
            " [1.0000000e+00 8.7890265e-15 7.4222527e-22 1.8206790e-10 2.8172003e-23]\n",
            " [1.2735682e-02 9.7700411e-01 1.0253827e-02 1.1644375e-08 6.3869011e-06]\n",
            " [9.8999012e-01 1.0009942e-02 1.2519055e-28 2.2682337e-11 1.3549090e-20]]\n"
          ]
        }
      ],
      "source": [
        "import numpy as np\n",
        "from keras.models import load_model\n",
        "from sklearn import metrics\n",
        "\n",
        "# Load the trained model\n",
        "file_path = os.path.join(ROOT_DIR, 'model1_ECG_16_20_20_5.h5')\n",
        "model = load_model(file_path)\n",
        "\n",
        "# Assuming you have new data 'X_new' in a NumPy array\n",
        "# Replace 'X_new' with your actual input data\n",
        "df = pd.read_csv(path)\n",
        "X_new = df.iloc[80535:80545,2:18]\n",
        "\n",
        "print(X_new)\n",
        "\n",
        "# normalize data\n",
        "from sklearn.preprocessing import MinMaxScaler\n",
        "scaler = MinMaxScaler()\n",
        "X_test_scaled = scaler.fit_transform(X_new)\n",
        "\n",
        "\n",
        "# Make predictions\n",
        "y_pred = model.predict(X_test_scaled)\n",
        "\n",
        "# Print or use the predictions\n",
        "print(y_pred)\n",
        "\n",
        "\n",
        "# print(\"Accuracy:\",metrics.accuracy_score(y_val, y_pred))\n",
        "\n",
        "# print(\"*** Confusion Matrix ***\")\n",
        "# print(metrics.confusion_matrix(y_val, y_pred))"
      ]
    },
    {
      "cell_type": "code",
      "execution_count": null,
      "metadata": {
        "id": "0DfeUJRzTBHm"
      },
      "outputs": [],
      "source": []
    }
  ],
  "metadata": {
    "colab": {
      "provenance": []
    },
    "kernelspec": {
      "display_name": "Python 3",
      "name": "python3"
    },
    "language_info": {
      "codemirror_mode": {
        "name": "ipython",
        "version": 3
      },
      "file_extension": ".py",
      "mimetype": "text/x-python",
      "name": "python",
      "nbconvert_exporter": "python",
      "pygments_lexer": "ipython3",
      "version": "3.10.8"
    }
  },
  "nbformat": 4,
  "nbformat_minor": 0
}
